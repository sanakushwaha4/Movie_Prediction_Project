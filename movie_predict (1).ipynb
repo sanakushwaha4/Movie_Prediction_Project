{
 "cells": [
  {
   "cell_type": "code",
   "execution_count": 2,
   "id": "151996be-f4cb-45e3-806e-7681160f5dbc",
   "metadata": {},
   "outputs": [],
   "source": [
    "import pandas as pd"
   ]
  },
  {
   "cell_type": "code",
   "execution_count": 3,
   "id": "aab81113-f47d-4847-8228-339903337a5e",
   "metadata": {},
   "outputs": [
    {
     "data": {
      "text/html": [
       "<div>\n",
       "<style scoped>\n",
       "    .dataframe tbody tr th:only-of-type {\n",
       "        vertical-align: middle;\n",
       "    }\n",
       "\n",
       "    .dataframe tbody tr th {\n",
       "        vertical-align: top;\n",
       "    }\n",
       "\n",
       "    .dataframe thead th {\n",
       "        text-align: right;\n",
       "    }\n",
       "</style>\n",
       "<table border=\"1\" class=\"dataframe\">\n",
       "  <thead>\n",
       "    <tr style=\"text-align: right;\">\n",
       "      <th></th>\n",
       "      <th>Movie_ID</th>\n",
       "      <th>Title</th>\n",
       "      <th>Budget_Million_INR</th>\n",
       "      <th>Box_Office_Million_INR</th>\n",
       "      <th>Genre</th>\n",
       "      <th>Director</th>\n",
       "      <th>Lead_Actor</th>\n",
       "      <th>Lead_Actress</th>\n",
       "      <th>IMDb_Rating</th>\n",
       "      <th>Awards_Won</th>\n",
       "      <th>Oscar_Nomination</th>\n",
       "    </tr>\n",
       "  </thead>\n",
       "  <tbody>\n",
       "    <tr>\n",
       "      <th>0</th>\n",
       "      <td>1</td>\n",
       "      <td>3 Idiots_1</td>\n",
       "      <td>84</td>\n",
       "      <td>324</td>\n",
       "      <td>Comedy</td>\n",
       "      <td>Director_124</td>\n",
       "      <td>Ranbir Kapoor</td>\n",
       "      <td>Katrina Kaif</td>\n",
       "      <td>6.3</td>\n",
       "      <td>7</td>\n",
       "      <td>No</td>\n",
       "    </tr>\n",
       "    <tr>\n",
       "      <th>1</th>\n",
       "      <td>2</td>\n",
       "      <td>Jab We Met_2</td>\n",
       "      <td>261</td>\n",
       "      <td>678</td>\n",
       "      <td>Historical</td>\n",
       "      <td>Director_289</td>\n",
       "      <td>Hrithik Roshan</td>\n",
       "      <td>Alia Bhatt</td>\n",
       "      <td>8.3</td>\n",
       "      <td>0</td>\n",
       "      <td>No</td>\n",
       "    </tr>\n",
       "    <tr>\n",
       "      <th>2</th>\n",
       "      <td>3</td>\n",
       "      <td>Raazi_3</td>\n",
       "      <td>68</td>\n",
       "      <td>224</td>\n",
       "      <td>Sci-Fi</td>\n",
       "      <td>Director_95</td>\n",
       "      <td>Ranveer Singh</td>\n",
       "      <td>Anushka Sharma</td>\n",
       "      <td>5.1</td>\n",
       "      <td>4</td>\n",
       "      <td>No</td>\n",
       "    </tr>\n",
       "    <tr>\n",
       "      <th>3</th>\n",
       "      <td>4</td>\n",
       "      <td>Tamasha_4</td>\n",
       "      <td>382</td>\n",
       "      <td>863</td>\n",
       "      <td>Historical</td>\n",
       "      <td>Director_249</td>\n",
       "      <td>Ranveer Singh</td>\n",
       "      <td>Priyanka Chopra</td>\n",
       "      <td>8.8</td>\n",
       "      <td>13</td>\n",
       "      <td>No</td>\n",
       "    </tr>\n",
       "    <tr>\n",
       "      <th>4</th>\n",
       "      <td>5</td>\n",
       "      <td>Kesari_5</td>\n",
       "      <td>245</td>\n",
       "      <td>879</td>\n",
       "      <td>Sci-Fi</td>\n",
       "      <td>Director_69</td>\n",
       "      <td>Aamir Khan</td>\n",
       "      <td>Deepika Padukone</td>\n",
       "      <td>7.8</td>\n",
       "      <td>3</td>\n",
       "      <td>No</td>\n",
       "    </tr>\n",
       "    <tr>\n",
       "      <th>...</th>\n",
       "      <td>...</td>\n",
       "      <td>...</td>\n",
       "      <td>...</td>\n",
       "      <td>...</td>\n",
       "      <td>...</td>\n",
       "      <td>...</td>\n",
       "      <td>...</td>\n",
       "      <td>...</td>\n",
       "      <td>...</td>\n",
       "      <td>...</td>\n",
       "      <td>...</td>\n",
       "    </tr>\n",
       "    <tr>\n",
       "      <th>4995</th>\n",
       "      <td>4996</td>\n",
       "      <td>Tamasha_4996</td>\n",
       "      <td>29</td>\n",
       "      <td>165</td>\n",
       "      <td>Romance</td>\n",
       "      <td>Director_117</td>\n",
       "      <td>Ranveer Singh</td>\n",
       "      <td>Katrina Kaif</td>\n",
       "      <td>3.3</td>\n",
       "      <td>0</td>\n",
       "      <td>No</td>\n",
       "    </tr>\n",
       "    <tr>\n",
       "      <th>4996</th>\n",
       "      <td>4997</td>\n",
       "      <td>Tamasha_4997</td>\n",
       "      <td>283</td>\n",
       "      <td>235</td>\n",
       "      <td>Sci-Fi</td>\n",
       "      <td>Director_138</td>\n",
       "      <td>Ranbir Kapoor</td>\n",
       "      <td>Katrina Kaif</td>\n",
       "      <td>5.9</td>\n",
       "      <td>4</td>\n",
       "      <td>No</td>\n",
       "    </tr>\n",
       "    <tr>\n",
       "      <th>4997</th>\n",
       "      <td>4998</td>\n",
       "      <td>PK_4998</td>\n",
       "      <td>477</td>\n",
       "      <td>2566</td>\n",
       "      <td>Sci-Fi</td>\n",
       "      <td>Director_93</td>\n",
       "      <td>Ranbir Kapoor</td>\n",
       "      <td>Priyanka Chopra</td>\n",
       "      <td>5.1</td>\n",
       "      <td>6</td>\n",
       "      <td>No</td>\n",
       "    </tr>\n",
       "    <tr>\n",
       "      <th>4998</th>\n",
       "      <td>4999</td>\n",
       "      <td>PK_4999</td>\n",
       "      <td>290</td>\n",
       "      <td>892</td>\n",
       "      <td>Sci-Fi</td>\n",
       "      <td>Director_32</td>\n",
       "      <td>Aamir Khan</td>\n",
       "      <td>Kareena Kapoor</td>\n",
       "      <td>5.1</td>\n",
       "      <td>7</td>\n",
       "      <td>No</td>\n",
       "    </tr>\n",
       "    <tr>\n",
       "      <th>4999</th>\n",
       "      <td>5000</td>\n",
       "      <td>War_5000</td>\n",
       "      <td>150</td>\n",
       "      <td>330</td>\n",
       "      <td>Thriller</td>\n",
       "      <td>Director_13</td>\n",
       "      <td>Shah Rukh Khan</td>\n",
       "      <td>Kareena Kapoor</td>\n",
       "      <td>6.9</td>\n",
       "      <td>12</td>\n",
       "      <td>No</td>\n",
       "    </tr>\n",
       "  </tbody>\n",
       "</table>\n",
       "<p>5000 rows × 11 columns</p>\n",
       "</div>"
      ],
      "text/plain": [
       "      Movie_ID         Title  Budget_Million_INR  Box_Office_Million_INR  \\\n",
       "0            1    3 Idiots_1                  84                     324   \n",
       "1            2  Jab We Met_2                 261                     678   \n",
       "2            3       Raazi_3                  68                     224   \n",
       "3            4     Tamasha_4                 382                     863   \n",
       "4            5      Kesari_5                 245                     879   \n",
       "...        ...           ...                 ...                     ...   \n",
       "4995      4996  Tamasha_4996                  29                     165   \n",
       "4996      4997  Tamasha_4997                 283                     235   \n",
       "4997      4998       PK_4998                 477                    2566   \n",
       "4998      4999       PK_4999                 290                     892   \n",
       "4999      5000      War_5000                 150                     330   \n",
       "\n",
       "           Genre      Director      Lead_Actor      Lead_Actress  IMDb_Rating  \\\n",
       "0         Comedy  Director_124   Ranbir Kapoor      Katrina Kaif          6.3   \n",
       "1     Historical  Director_289  Hrithik Roshan        Alia Bhatt          8.3   \n",
       "2         Sci-Fi   Director_95   Ranveer Singh    Anushka Sharma          5.1   \n",
       "3     Historical  Director_249   Ranveer Singh   Priyanka Chopra          8.8   \n",
       "4         Sci-Fi   Director_69      Aamir Khan  Deepika Padukone          7.8   \n",
       "...          ...           ...             ...               ...          ...   \n",
       "4995     Romance  Director_117   Ranveer Singh      Katrina Kaif          3.3   \n",
       "4996      Sci-Fi  Director_138   Ranbir Kapoor      Katrina Kaif          5.9   \n",
       "4997      Sci-Fi   Director_93   Ranbir Kapoor   Priyanka Chopra          5.1   \n",
       "4998      Sci-Fi   Director_32      Aamir Khan    Kareena Kapoor          5.1   \n",
       "4999    Thriller   Director_13  Shah Rukh Khan    Kareena Kapoor          6.9   \n",
       "\n",
       "      Awards_Won Oscar_Nomination  \n",
       "0              7               No  \n",
       "1              0               No  \n",
       "2              4               No  \n",
       "3             13               No  \n",
       "4              3               No  \n",
       "...          ...              ...  \n",
       "4995           0               No  \n",
       "4996           4               No  \n",
       "4997           6               No  \n",
       "4998           7               No  \n",
       "4999          12               No  \n",
       "\n",
       "[5000 rows x 11 columns]"
      ]
     },
     "execution_count": 3,
     "metadata": {},
     "output_type": "execute_result"
    }
   ],
   "source": [
    "# Load dataset\n",
    "df = pd.read_csv(\"bollywood_movie_awards.csv\")\n",
    "df\n"
   ]
  },
  {
   "cell_type": "code",
   "execution_count": 4,
   "id": "396e16ba-9648-44e9-bafd-9ae2aef43efd",
   "metadata": {},
   "outputs": [
    {
     "name": "stdout",
     "output_type": "stream",
     "text": [
      "   Movie_ID         Title  Budget_Million_INR  Box_Office_Million_INR  \\\n",
      "0         1    3 Idiots_1                  84                     324   \n",
      "1         2  Jab We Met_2                 261                     678   \n",
      "2         3       Raazi_3                  68                     224   \n",
      "3         4     Tamasha_4                 382                     863   \n",
      "4         5      Kesari_5                 245                     879   \n",
      "\n",
      "        Genre      Director      Lead_Actor      Lead_Actress  IMDb_Rating  \\\n",
      "0      Comedy  Director_124   Ranbir Kapoor      Katrina Kaif          6.3   \n",
      "1  Historical  Director_289  Hrithik Roshan        Alia Bhatt          8.3   \n",
      "2      Sci-Fi   Director_95   Ranveer Singh    Anushka Sharma          5.1   \n",
      "3  Historical  Director_249   Ranveer Singh   Priyanka Chopra          8.8   \n",
      "4      Sci-Fi   Director_69      Aamir Khan  Deepika Padukone          7.8   \n",
      "\n",
      "   Awards_Won Oscar_Nomination  \n",
      "0           7               No  \n",
      "1           0               No  \n",
      "2           4               No  \n",
      "3          13               No  \n",
      "4           3               No         Movie_ID         Title  Budget_Million_INR  Box_Office_Million_INR  \\\n",
      "4995      4996  Tamasha_4996                  29                     165   \n",
      "4996      4997  Tamasha_4997                 283                     235   \n",
      "4997      4998       PK_4998                 477                    2566   \n",
      "4998      4999       PK_4999                 290                     892   \n",
      "4999      5000      War_5000                 150                     330   \n",
      "\n",
      "         Genre      Director      Lead_Actor     Lead_Actress  IMDb_Rating  \\\n",
      "4995   Romance  Director_117   Ranveer Singh     Katrina Kaif          3.3   \n",
      "4996    Sci-Fi  Director_138   Ranbir Kapoor     Katrina Kaif          5.9   \n",
      "4997    Sci-Fi   Director_93   Ranbir Kapoor  Priyanka Chopra          5.1   \n",
      "4998    Sci-Fi   Director_32      Aamir Khan   Kareena Kapoor          5.1   \n",
      "4999  Thriller   Director_13  Shah Rukh Khan   Kareena Kapoor          6.9   \n",
      "\n",
      "      Awards_Won Oscar_Nomination  \n",
      "4995           0               No  \n",
      "4996           4               No  \n",
      "4997           6               No  \n",
      "4998           7               No  \n",
      "4999          12               No  \n"
     ]
    }
   ],
   "source": [
    "# 1. Display the first 5 and last 5 rows\n",
    "print(df.head(), df.tail())\n"
   ]
  },
  {
   "cell_type": "code",
   "execution_count": 5,
   "id": "0c483283-7f21-41a8-a0f0-54514f91fa09",
   "metadata": {},
   "outputs": [
    {
     "name": "stdout",
     "output_type": "stream",
     "text": [
      "(5000, 11)\n"
     ]
    }
   ],
   "source": [
    "# 2. Check dataset shape (rows, columns)\n",
    "print(df.shape)\n"
   ]
  },
  {
   "cell_type": "code",
   "execution_count": 6,
   "id": "04330061-9262-4002-a5d0-e1180bb06c5b",
   "metadata": {},
   "outputs": [
    {
     "name": "stdout",
     "output_type": "stream",
     "text": [
      "Movie_ID                    int64\n",
      "Title                      object\n",
      "Budget_Million_INR          int64\n",
      "Box_Office_Million_INR      int64\n",
      "Genre                      object\n",
      "Director                   object\n",
      "Lead_Actor                 object\n",
      "Lead_Actress               object\n",
      "IMDb_Rating               float64\n",
      "Awards_Won                  int64\n",
      "Oscar_Nomination           object\n",
      "dtype: object\n"
     ]
    }
   ],
   "source": [
    "# 3. List column names and data types\n",
    "print(df.dtypes)\n"
   ]
  },
  {
   "cell_type": "code",
   "execution_count": 7,
   "id": "23bbe5fc-5688-4f77-b7a1-e65c38008768",
   "metadata": {},
   "outputs": [
    {
     "name": "stdout",
     "output_type": "stream",
     "text": [
      "Movie_ID                  0\n",
      "Title                     0\n",
      "Budget_Million_INR        0\n",
      "Box_Office_Million_INR    0\n",
      "Genre                     0\n",
      "Director                  0\n",
      "Lead_Actor                0\n",
      "Lead_Actress              0\n",
      "IMDb_Rating               0\n",
      "Awards_Won                0\n",
      "Oscar_Nomination          0\n",
      "dtype: int64\n"
     ]
    }
   ],
   "source": [
    "# 4. Check for missing values\n",
    "print(df.isnull().sum())"
   ]
  },
  {
   "cell_type": "code",
   "execution_count": 8,
   "id": "44b94762-8b5a-44e1-88a8-d1fccb043a99",
   "metadata": {},
   "outputs": [
    {
     "name": "stdout",
     "output_type": "stream",
     "text": [
      "          Movie_ID  Budget_Million_INR  Box_Office_Million_INR  IMDb_Rating  \\\n",
      "count  5000.000000         5000.000000             5000.000000  5000.000000   \n",
      "mean   2500.500000          253.844000              864.767800     6.405540   \n",
      "std    1443.520003          141.633242              647.831056     1.957852   \n",
      "min       1.000000           10.000000               12.000000     3.000000   \n",
      "25%    1250.750000          131.750000              346.000000     4.700000   \n",
      "50%    2500.500000          254.000000              705.000000     6.400000   \n",
      "75%    3750.250000          376.000000             1276.000000     8.100000   \n",
      "max    5000.000000          499.000000             2951.000000     9.800000   \n",
      "\n",
      "        Awards_Won  \n",
      "count  5000.000000  \n",
      "mean      7.028600  \n",
      "std       4.334229  \n",
      "min       0.000000  \n",
      "25%       3.000000  \n",
      "50%       7.000000  \n",
      "75%      11.000000  \n",
      "max      14.000000  \n"
     ]
    }
   ],
   "source": [
    "# 5. Display summary statistics for numerical columns\n",
    "print(df.describe())"
   ]
  },
  {
   "cell_type": "code",
   "execution_count": 9,
   "id": "dea047cb-50ed-4afb-a793-a0fd18064f05",
   "metadata": {},
   "outputs": [
    {
     "name": "stdout",
     "output_type": "stream",
     "text": [
      "(5000, 11)\n"
     ]
    }
   ],
   "source": [
    "# 6. Identify and remove duplicate rows\n",
    "df = df.drop_duplicates()\n",
    "print(df.shape)  # Shape after removing duplicates"
   ]
  },
  {
   "cell_type": "code",
   "execution_count": 10,
   "id": "efaeaa48-6e5e-42fe-a5e8-a8ba2703f912",
   "metadata": {},
   "outputs": [
    {
     "name": "stdout",
     "output_type": "stream",
     "text": [
      "Movie_ID                  5000\n",
      "Title                     5000\n",
      "Budget_Million_INR         490\n",
      "Box_Office_Million_INR    1938\n",
      "Genre                        8\n",
      "Director                   300\n",
      "Lead_Actor                   7\n",
      "Lead_Actress                 6\n",
      "IMDb_Rating                 69\n",
      "Awards_Won                  15\n",
      "Oscar_Nomination             2\n",
      "dtype: int64\n"
     ]
    }
   ],
   "source": [
    "# 7. Get the number of unique values in each column\n",
    "print(df.nunique())"
   ]
  },
  {
   "cell_type": "code",
   "execution_count": 12,
   "id": "2c8eaed3-e24e-4bfc-9b22-d125ebf3750b",
   "metadata": {},
   "outputs": [
    {
     "name": "stdout",
     "output_type": "stream",
     "text": [
      "Missing values filled with column mean:\n",
      " Movie_ID                  0\n",
      "Title                     0\n",
      "Budget_Million_INR        0\n",
      "Box_Office_Million_INR    0\n",
      "Genre                     0\n",
      "Director                  0\n",
      "Lead_Actor                0\n",
      "Lead_Actress              0\n",
      "IMDb_Rating               0\n",
      "Awards_Won                0\n",
      "Oscar_Nomination          0\n",
      "dtype: int64 \n",
      "\n"
     ]
    }
   ],
   "source": [
    "# 1. Fill missing values in numerical columns with column mean\n",
    "df.fillna(df.mean(numeric_only=True), inplace=True)\n",
    "print(\"Missing values filled with column mean:\\n\", df.isnull().sum(), \"\\n\")\n"
   ]
  },
  {
   "cell_type": "code",
   "execution_count": 13,
   "id": "b7605065-3014-4f52-bfb2-cba51e896ec1",
   "metadata": {},
   "outputs": [
    {
     "name": "stdout",
     "output_type": "stream",
     "text": [
      "Dataset after dropping rows with missing values:\n",
      "    Movie_ID         Title  Budget_Million_INR  Box_Office_Million_INR  \\\n",
      "0         1    3 Idiots_1                  84                     324   \n",
      "1         2  Jab We Met_2                 261                     678   \n",
      "2         3       Raazi_3                  68                     224   \n",
      "3         4     Tamasha_4                 382                     863   \n",
      "4         5      Kesari_5                 245                     879   \n",
      "\n",
      "        Genre      Director      Lead_Actor      Lead_Actress  IMDb_Rating  \\\n",
      "0      Comedy  Director_124   Ranbir Kapoor      Katrina Kaif          6.3   \n",
      "1  Historical  Director_289  Hrithik Roshan        Alia Bhatt          8.3   \n",
      "2      Sci-Fi   Director_95   Ranveer Singh    Anushka Sharma          5.1   \n",
      "3  Historical  Director_249   Ranveer Singh   Priyanka Chopra          8.8   \n",
      "4      Sci-Fi   Director_69      Aamir Khan  Deepika Padukone          7.8   \n",
      "\n",
      "   Awards_Won Oscar_Nomination  \n",
      "0           7               No  \n",
      "1           0               No  \n",
      "2           4               No  \n",
      "3          13               No  \n",
      "4           3               No   \n",
      "\n"
     ]
    }
   ],
   "source": [
    "# 2. Drop rows with any missing values\n",
    "df_cleaned = df.dropna()\n",
    "print(\"Dataset after dropping rows with missing values:\\n\", df_cleaned.head(), \"\\n\")\n"
   ]
  },
  {
   "cell_type": "code",
   "execution_count": 14,
   "id": "ebc634f6-4198-4bb9-aded-8e98afcf89ff",
   "metadata": {},
   "outputs": [
    {
     "name": "stdout",
     "output_type": "stream",
     "text": [
      "Updated 'Oscar_Nomination' column:\n",
      " Oscar_Nomination\n",
      "Not Nominated    4778\n",
      "Yes               222\n",
      "Name: count, dtype: int64 \n",
      "\n"
     ]
    }
   ],
   "source": [
    "# 3. Replace all occurrences of 'No' with 'Not Nominated' in 'Oscar_Nomination'\n",
    "df_cleaned['Oscar_Nomination'] = df_cleaned['Oscar_Nomination'].replace('No', 'Not Nominated')\n",
    "print(\"Updated 'Oscar_Nomination' column:\\n\", df_cleaned['Oscar_Nomination'].value_counts(), \"\\n\")\n"
   ]
  },
  {
   "cell_type": "code",
   "execution_count": 15,
   "id": "674710b5-8247-4afc-9897-88777804751d",
   "metadata": {},
   "outputs": [
    {
     "name": "stdout",
     "output_type": "stream",
     "text": [
      "Columns after renaming:\n",
      " Index(['Movie_ID', 'Movie_Title', 'Budget_Million_INR',\n",
      "       'Box_Office_Million_INR', 'Genre', 'Director', 'Lead_Actor',\n",
      "       'Lead_Actress', 'IMDb_Rating', 'Awards_Won', 'Oscar_Nomination'],\n",
      "      dtype='object') \n",
      "\n"
     ]
    }
   ],
   "source": [
    "# 4. Rename a column ('Title' to 'Movie_Title')\n",
    "df_cleaned.rename(columns={'Title': 'Movie_Title'}, inplace=True)\n",
    "\n",
    "print(\"Columns after renaming:\\n\", df_cleaned.columns, \"\\n\")\n"
   ]
  },
  {
   "cell_type": "code",
   "execution_count": 16,
   "id": "fe0987c9-1081-46cc-820e-ef880cf5301a",
   "metadata": {},
   "outputs": [
    {
     "name": "stdout",
     "output_type": "stream",
     "text": [
      "First 5 rows after normalizing 'Budget_Million_INR':\n",
      "    Budget_Million_INR  Budget_Million_INR_Norm\n",
      "0                  84                 0.151329\n",
      "1                 261                 0.513292\n",
      "2                  68                 0.118609\n",
      "3                 382                 0.760736\n",
      "4                 245                 0.480573 \n",
      "\n"
     ]
    }
   ],
   "source": [
    "# 5. Normalize 'Budget_Million_INR' between 0 and 1\n",
    "df_cleaned['Budget_Million_INR_Norm'] = (df_cleaned['Budget_Million_INR'] - df_cleaned['Budget_Million_INR'].min()) / \\\n",
    "                                        (df_cleaned['Budget_Million_INR'].max() - df_cleaned['Budget_Million_INR'].min())\n",
    "print(\"First 5 rows after normalizing 'Budget_Million_INR':\\n\", df_cleaned[['Budget_Million_INR', 'Budget_Million_INR_Norm']].head(), \"\\n\")\n"
   ]
  },
  {
   "cell_type": "code",
   "execution_count": 18,
   "id": "41c1a583-6b52-4bea-8133-2483b619835c",
   "metadata": {},
   "outputs": [
    {
     "name": "stdout",
     "output_type": "stream",
     "text": [
      "0    6.3\n",
      "1    8.3\n",
      "2    5.1\n",
      "3    8.8\n",
      "4    7.8\n",
      "Name: IMDb_Rating, dtype: float64 \n",
      "\n"
     ]
    }
   ],
   "source": [
    "# 1. Select 'IMDb_Rating' column\n",
    "imdb_ratings = df_cleaned['IMDb_Rating']\n",
    "print(imdb_ratings.head(), \"\\n\")"
   ]
  },
  {
   "cell_type": "code",
   "execution_count": 19,
   "id": "48a01135-5dfe-425c-b7f5-a3e7ad4e82c8",
   "metadata": {},
   "outputs": [
    {
     "name": "stdout",
     "output_type": "stream",
     "text": [
      "Movie Titles and Genres:\n",
      "    Movie_Title       Genre\n",
      "0    3 Idiots_1      Comedy\n",
      "1  Jab We Met_2  Historical\n",
      "2       Raazi_3      Sci-Fi\n",
      "3     Tamasha_4  Historical\n",
      "4      Kesari_5      Sci-Fi \n",
      "\n"
     ]
    }
   ],
   "source": [
    "# 2. Select 'Movie_Title' and 'Genre' columns\n",
    "movie_genre = df_cleaned[['Movie_Title', 'Genre']]\n",
    "print(\"Movie Titles and Genres:\")\n",
    "print(movie_genre.head(), \"\\n\")\n"
   ]
  },
  {
   "cell_type": "code",
   "execution_count": 20,
   "id": "14c68648-50ba-443f-9670-e47fc06fcf39",
   "metadata": {},
   "outputs": [
    {
     "name": "stdout",
     "output_type": "stream",
     "text": [
      "Movies with IMDb Rating > 8:\n",
      "    Movie_ID    Movie_Title  Budget_Million_INR  Box_Office_Million_INR  \\\n",
      "1          2   Jab We Met_2                 261                     678   \n",
      "3          4      Tamasha_4                 382                     863   \n",
      "5          6       Swades_6                  28                      88   \n",
      "13        14  Chhichhore_14                  72                      63   \n",
      "18        19   Baahubali_19                  39                     205   \n",
      "\n",
      "         Genre      Director      Lead_Actor     Lead_Actress  IMDb_Rating  \\\n",
      "1   Historical  Director_289  Hrithik Roshan       Alia Bhatt          8.3   \n",
      "3   Historical  Director_249   Ranveer Singh  Priyanka Chopra          8.8   \n",
      "5       Comedy  Director_114   Ranveer Singh     Katrina Kaif          8.3   \n",
      "13  Historical  Director_132    Akshay Kumar   Anushka Sharma          8.2   \n",
      "18    Thriller  Director_253      Aamir Khan   Anushka Sharma          8.3   \n",
      "\n",
      "    Awards_Won Oscar_Nomination  Budget_Million_INR_Norm  \n",
      "1            0    Not Nominated                 0.513292  \n",
      "3           13    Not Nominated                 0.760736  \n",
      "5           10              Yes                 0.036810  \n",
      "13          10    Not Nominated                 0.126789  \n",
      "18           5    Not Nominated                 0.059305   \n",
      "\n"
     ]
    }
   ],
   "source": [
    "# 3. Filter movies with IMDb Rating > 8\n",
    "high_rated_movies = df_cleaned[df_cleaned['IMDb_Rating'] > 8]\n",
    "print(\"Movies with IMDb Rating > 8:\")\n",
    "print(high_rated_movies.head(), \"\\n\")"
   ]
  },
  {
   "cell_type": "code",
   "execution_count": 21,
   "id": "44ece285-8178-4c39-965e-61e327e369bc",
   "metadata": {},
   "outputs": [
    {
     "name": "stdout",
     "output_type": "stream",
     "text": [
      "Sci-Fi Movies:\n",
      "    Movie_ID  Movie_Title  Budget_Million_INR  Box_Office_Million_INR   Genre  \\\n",
      "2          3      Raazi_3                  68                     224  Sci-Fi   \n",
      "4          5     Kesari_5                 245                     879  Sci-Fi   \n",
      "7          8  Andhadhun_8                 383                    1331  Sci-Fi   \n",
      "8          9  Gully Boy_9                 499                    2799  Sci-Fi   \n",
      "35        36        PK_36                  19                     103  Sci-Fi   \n",
      "\n",
      "        Director     Lead_Actor      Lead_Actress  IMDb_Rating  Awards_Won  \\\n",
      "2    Director_95  Ranveer Singh    Anushka Sharma          5.1           4   \n",
      "4    Director_69     Aamir Khan  Deepika Padukone          7.8           3   \n",
      "7   Director_229  Ranbir Kapoor    Anushka Sharma          7.5           7   \n",
      "8    Director_68    Salman Khan    Kareena Kapoor          5.7           8   \n",
      "35   Director_19  Ranveer Singh    Anushka Sharma          4.7           1   \n",
      "\n",
      "   Oscar_Nomination  Budget_Million_INR_Norm  \n",
      "2     Not Nominated                 0.118609  \n",
      "4     Not Nominated                 0.480573  \n",
      "7     Not Nominated                 0.762781  \n",
      "8     Not Nominated                 1.000000  \n",
      "35    Not Nominated                 0.018405   \n",
      "\n"
     ]
    }
   ],
   "source": [
    "# 4. Filter dataset to show only \"Sci-Fi\" movies\n",
    "sci_fi_movies = df_cleaned[df_cleaned['Genre'] == 'Sci-Fi']\n",
    "print(\"Sci-Fi Movies:\")\n",
    "print(sci_fi_movies.head(), \"\\n\")\n"
   ]
  },
  {
   "cell_type": "code",
   "execution_count": 23,
   "id": "2440aeb4-3a03-44c7-b2f2-283b5eae4b4b",
   "metadata": {},
   "outputs": [
    {
     "name": "stdout",
     "output_type": "stream",
     "text": [
      "Movies sorted by IMDb Rating (ascending):\n",
      "       Movie_ID        Movie_Title  Budget_Million_INR  Box_Office_Million_INR  \\\n",
      "2711      2712    Badhaai Ho_2712                 447                    1250   \n",
      "2628      2629  Dear Zindagi_2629                  37                      88   \n",
      "3535      3536      Rockstar_3536                 347                    1303   \n",
      "379        380      Andhadhun_380                  85                     153   \n",
      "3011      3012      Super 30_3012                 314                    1685   \n",
      "\n",
      "        Genre      Director      Lead_Actor      Lead_Actress  IMDb_Rating  \\\n",
      "2711  Musical  Director_165     Salman Khan  Deepika Padukone          3.0   \n",
      "2628  Romance  Director_274   Ranveer Singh    Kareena Kapoor          3.0   \n",
      "3535  Romance   Director_97    Akshay Kumar      Katrina Kaif          3.0   \n",
      "379     Drama  Director_283  Shah Rukh Khan    Kareena Kapoor          3.0   \n",
      "3011   Sci-Fi   Director_33   Ranveer Singh        Alia Bhatt          3.0   \n",
      "\n",
      "      Awards_Won Oscar_Nomination  Budget_Million_INR_Norm  \n",
      "2711           7    Not Nominated                 0.893661  \n",
      "2628           1    Not Nominated                 0.055215  \n",
      "3535           9    Not Nominated                 0.689162  \n",
      "379           13    Not Nominated                 0.153374  \n",
      "3011           0    Not Nominated                 0.621677   \n",
      "\n"
     ]
    }
   ],
   "source": [
    "# 1. Sort by IMDb Rating in ascending order\n",
    "sorted_by_rating = df_cleaned.sort_values(by='IMDb_Rating', ascending=True)\n",
    "print(\"Movies sorted by IMDb Rating (ascending):\\n\", sorted_by_rating.head(), \"\\n\")"
   ]
  },
  {
   "cell_type": "code",
   "execution_count": 24,
   "id": "2b56c594-28f6-4817-8ff2-593afe06f151",
   "metadata": {},
   "outputs": [
    {
     "name": "stdout",
     "output_type": "stream",
     "text": [
      "Movies sorted by Genre alphabetically:\n",
      "       Movie_ID       Movie_Title  Budget_Million_INR  Box_Office_Million_INR  \\\n",
      "334        335        Dangal_335                  46                     243   \n",
      "431        432    Jab We Met_432                 324                    1086   \n",
      "1889      1890      Airlift_1890                 298                    1309   \n",
      "3611      3612          War_3612                 234                    1172   \n",
      "736        737  Ek Tha Tiger_737                 495                    1646   \n",
      "\n",
      "       Genre      Director      Lead_Actor     Lead_Actress  IMDb_Rating  \\\n",
      "334   Action  Director_173  Hrithik Roshan   Anushka Sharma          6.3   \n",
      "431   Action  Director_233  Shah Rukh Khan       Alia Bhatt          9.6   \n",
      "1889  Action   Director_66   Ranbir Kapoor  Priyanka Chopra          9.4   \n",
      "3611  Action  Director_276  Shah Rukh Khan   Kareena Kapoor          5.7   \n",
      "736   Action  Director_160   Ranbir Kapoor   Anushka Sharma          6.1   \n",
      "\n",
      "      Awards_Won Oscar_Nomination  Budget_Million_INR_Norm  \n",
      "334            9    Not Nominated                 0.073620  \n",
      "431           12    Not Nominated                 0.642127  \n",
      "1889           7    Not Nominated                 0.588957  \n",
      "3611           3    Not Nominated                 0.458078  \n",
      "736           11    Not Nominated                 0.991820   \n",
      "\n"
     ]
    }
   ],
   "source": [
    "# 2. Sort 'Genre' column alphabetically\n",
    "sorted_by_genre = df_cleaned.sort_values(by='Genre', ascending=True)\n",
    "print(\"Movies sorted by Genre alphabetically:\\n\", sorted_by_genre.head(), \"\\n\")"
   ]
  },
  {
   "cell_type": "code",
   "execution_count": 25,
   "id": "af2bcda8-cfdd-492f-9a93-ee91dd914a8e",
   "metadata": {},
   "outputs": [
    {
     "name": "stdout",
     "output_type": "stream",
     "text": [
      "Movies sorted by Box Office revenue (descending):\n",
      "       Movie_ID        Movie_Title  Budget_Million_INR  Box_Office_Million_INR  \\\n",
      "3035      3036  Dear Zindagi_3036                 499                    2951   \n",
      "637        638     Jab We Met_638                 492                    2950   \n",
      "709        710          Raazi_710                 495                    2915   \n",
      "32          33       Andhadhun_33                 486                    2898   \n",
      "3389      3390       Tamasha_3390                 492                    2892   \n",
      "\n",
      "        Genre      Director      Lead_Actor      Lead_Actress  IMDb_Rating  \\\n",
      "3035   Comedy  Director_271    Akshay Kumar    Kareena Kapoor          4.4   \n",
      "637   Romance   Director_40   Ranveer Singh      Katrina Kaif          4.5   \n",
      "709    Comedy   Director_27   Ranbir Kapoor  Deepika Padukone          5.5   \n",
      "32     Comedy  Director_138      Aamir Khan        Alia Bhatt          5.1   \n",
      "3389   Action  Director_124  Hrithik Roshan   Priyanka Chopra          5.9   \n",
      "\n",
      "      Awards_Won Oscar_Nomination  Budget_Million_INR_Norm  \n",
      "3035          13    Not Nominated                 1.000000  \n",
      "637            7    Not Nominated                 0.985685  \n",
      "709           13    Not Nominated                 0.991820  \n",
      "32             5    Not Nominated                 0.973415  \n",
      "3389           5    Not Nominated                 0.985685   \n",
      "\n"
     ]
    }
   ],
   "source": [
    "# 3. Sort by 'Box_Office_Million_INR' in descending order\n",
    "sorted_by_box_office = df_cleaned.sort_values(by='Box_Office_Million_INR', ascending=False)\n",
    "print(\"Movies sorted by Box Office revenue (descending):\\n\", sorted_by_box_office.head(), \"\\n\")"
   ]
  },
  {
   "cell_type": "code",
   "execution_count": 26,
   "id": "e96fcab9-6e31-4db7-9e24-c6d21c5fd5a3",
   "metadata": {},
   "outputs": [
    {
     "name": "stdout",
     "output_type": "stream",
     "text": [
      "Movies sorted by Genre and IMDb Rating:\n",
      "       Movie_ID             Movie_Title  Budget_Million_INR  \\\n",
      "634        635              Kesari_635                  26   \n",
      "1608      1609                War_1609                 263   \n",
      "1815      1816                 PK_1816                  82   \n",
      "3078      3079  Bajrangi Bhaijaan_3079                 135   \n",
      "3172      3173            Tamasha_3173                 360   \n",
      "\n",
      "      Box_Office_Million_INR   Genre      Director     Lead_Actor  \\\n",
      "634                       62  Action  Director_174    Salman Khan   \n",
      "1608                    1556  Action  Director_251    Salman Khan   \n",
      "1815                     253  Action  Director_287   Akshay Kumar   \n",
      "3078                     354  Action   Director_81  Ranveer Singh   \n",
      "3172                    1726  Action  Director_241   Akshay Kumar   \n",
      "\n",
      "         Lead_Actress  IMDb_Rating  Awards_Won Oscar_Nomination  \\\n",
      "634      Katrina Kaif          9.8           4    Not Nominated   \n",
      "1608     Katrina Kaif          9.8           6    Not Nominated   \n",
      "1815   Kareena Kapoor          9.8           8    Not Nominated   \n",
      "3078       Alia Bhatt          9.8           0    Not Nominated   \n",
      "3172  Priyanka Chopra          9.8          11    Not Nominated   \n",
      "\n",
      "      Budget_Million_INR_Norm  \n",
      "634                  0.032720  \n",
      "1608                 0.517382  \n",
      "1815                 0.147239  \n",
      "3078                 0.255624  \n",
      "3172                 0.715746   \n",
      "\n"
     ]
    }
   ],
   "source": [
    "# 4. Sort by 'Genre' first, then 'IMDb_Rating'\n",
    "sorted_by_genre_rating = df_cleaned.sort_values(by=['Genre', 'IMDb_Rating'], ascending=[True, False])\n",
    "print(\"Movies sorted by Genre and IMDb Rating:\\n\", sorted_by_genre_rating.head(), \"\\n\")"
   ]
  },
  {
   "cell_type": "code",
   "execution_count": 27,
   "id": "b22a600a-770a-4206-87df-bdd62fb07460",
   "metadata": {},
   "outputs": [
    {
     "name": "stdout",
     "output_type": "stream",
     "text": [
      "Top 3 highest-rated movies:\n",
      "      Movie_ID Movie_Title  Budget_Million_INR  Box_Office_Million_INR  \\\n",
      "72         73      War_73                 415                    2027   \n",
      "121       122  Kesari_122                 228                     200   \n",
      "203       204  Dangal_204                 451                    2185   \n",
      "\n",
      "        Genre      Director     Lead_Actor     Lead_Actress  IMDb_Rating  \\\n",
      "72     Comedy   Director_43  Ranbir Kapoor  Priyanka Chopra          9.8   \n",
      "121  Thriller    Director_1    Salman Khan   Anushka Sharma          9.8   \n",
      "203    Sci-Fi  Director_233    Salman Khan   Kareena Kapoor          9.8   \n",
      "\n",
      "     Awards_Won Oscar_Nomination  Budget_Million_INR_Norm  \n",
      "72           13    Not Nominated                 0.828221  \n",
      "121          13    Not Nominated                 0.445808  \n",
      "203           6    Not Nominated                 0.901840   \n",
      "\n"
     ]
    }
   ],
   "source": [
    "# 5. Get top 3 highest-rated movies\n",
    "top_3_movies = df_cleaned.nlargest(3, 'IMDb_Rating')\n",
    "print(\"Top 3 highest-rated movies:\\n\", top_3_movies, \"\\n\")"
   ]
  },
  {
   "cell_type": "code",
   "execution_count": 29,
   "id": "e212b370-d914-4b30-a25b-7e05ec7be87c",
   "metadata": {},
   "outputs": [
    {
     "name": "stdout",
     "output_type": "stream",
     "text": [
      "Columns after renaming 'Genre' to 'Movie_Genre':\n",
      " Index(['Movie_ID', 'Movie_Title', 'Budget_Million_INR',\n",
      "       'Box_Office_Million_INR', 'Movie_Genre', 'Director', 'Lead_Actor',\n",
      "       'Lead_Actress', 'IMDb_Rating', 'Awards_Won', 'Oscar_Nomination',\n",
      "       'Budget_Million_INR_Norm'],\n",
      "      dtype='object') \n",
      "\n"
     ]
    }
   ],
   "source": [
    "# 1. Rename 'City' to 'Location'\n",
    "df_cleaned.rename(columns={'Genre': 'Movie_Genre'}, inplace=True)\n",
    "print(\"Columns after renaming 'Genre' to 'Movie_Genre':\\n\", df_cleaned.columns, \"\\n\")"
   ]
  },
  {
   "cell_type": "code",
   "execution_count": 30,
   "id": "097a4001-1a9a-4556-b0f6-bcc110058568",
   "metadata": {},
   "outputs": [
    {
     "name": "stdout",
     "output_type": "stream",
     "text": [
      "Columns after renaming 'IMDb_Rating' to 'Rating':\n",
      " Index(['Movie_ID', 'Movie_Title', 'Budget_Million_INR',\n",
      "       'Box_Office_Million_INR', 'Movie_Genre', 'Director', 'Lead_Actor',\n",
      "       'Lead_Actress', 'Rating', 'Awards_Won', 'Oscar_Nomination',\n",
      "       'Budget_Million_INR_Norm'],\n",
      "      dtype='object') \n",
      "\n"
     ]
    }
   ],
   "source": [
    "# 2. Rename 'IMDb_Rating' to 'Rating'\n",
    "df_cleaned.rename(columns={'IMDb_Rating': 'Rating'}, inplace=True)\n",
    "print(\"Columns after renaming 'IMDb_Rating' to 'Rating':\\n\", df_cleaned.columns, \"\\n\")\n"
   ]
  },
  {
   "cell_type": "code",
   "execution_count": 31,
   "id": "390ab1a9-8070-44be-a7d1-e73a83d74730",
   "metadata": {},
   "outputs": [
    {
     "name": "stdout",
     "output_type": "stream",
     "text": [
      "Columns after renaming multiple columns:\n",
      " Index(['Movie_ID', 'Movie_Title', 'Budget', 'BoxOffice', 'Movie_Genre',\n",
      "       'Director', 'Lead_Actor', 'Lead_Actress', 'Rating', 'Awards_Won',\n",
      "       'Oscar_Nomination', 'Budget_Million_INR_Norm'],\n",
      "      dtype='object') \n",
      "\n"
     ]
    }
   ],
   "source": [
    "# 3. Rename multiple columns\n",
    "df_cleaned.rename(columns={'Box_Office_Million_INR': 'BoxOffice', 'Budget_Million_INR': 'Budget'}, inplace=True)\n",
    "print(\"Columns after renaming multiple columns:\\n\", df_cleaned.columns, \"\\n\")"
   ]
  },
  {
   "cell_type": "code",
   "execution_count": 32,
   "id": "3615f347-a694-461f-8b7f-9f9f0a9b1daf",
   "metadata": {},
   "outputs": [
    {
     "name": "stdout",
     "output_type": "stream",
     "text": [
      "Columns after renaming 'Oscar_Nomination' to 'OscarStatus':\n",
      " Index(['Movie_ID', 'Movie_Title', 'Budget', 'BoxOffice', 'Movie_Genre',\n",
      "       'Director', 'Lead_Actor', 'Lead_Actress', 'Rating', 'Awards_Won',\n",
      "       'OscarStatus', 'Budget_Million_INR_Norm'],\n",
      "      dtype='object') \n",
      "\n"
     ]
    }
   ],
   "source": [
    "# 4. Change a column name to a simpler one\n",
    "df_cleaned.rename(columns={'Oscar_Nomination': 'OscarStatus'}, inplace=True)\n",
    "print(\"Columns after renaming 'Oscar_Nomination' to 'OscarStatus':\\n\", df_cleaned.columns, \"\\n\")\n"
   ]
  },
  {
   "cell_type": "code",
   "execution_count": 34,
   "id": "f69ff81e-4ead-4b58-9c02-cfa8a9fc1d77",
   "metadata": {},
   "outputs": [
    {
     "name": "stdout",
     "output_type": "stream",
     "text": [
      "Columns in DataFrame: Index(['Movie_ID', 'Movie_Title', 'Budget', 'BoxOffice', 'Movie_Genre',\n",
      "       'Director', 'Lead_Actor', 'Lead_Actress', 'Rating', 'Awards_Won',\n",
      "       'OscarStatus', 'Budget_Million_INR_Norm'],\n",
      "      dtype='object') \n",
      "\n"
     ]
    }
   ],
   "source": [
    "# Check available columns\n",
    "print(\"Columns in DataFrame:\", df_cleaned.columns, \"\\n\")"
   ]
  },
  {
   "cell_type": "code",
   "execution_count": 35,
   "id": "8a9e45d2-c059-47a0-8213-5b0a92e95c62",
   "metadata": {},
   "outputs": [
    {
     "name": "stdout",
     "output_type": "stream",
     "text": [
      "Columns in DataFrame: ['Movie_ID', 'Movie_Title', 'Budget', 'BoxOffice', 'Movie_Genre', 'Director', 'Lead_Actor', 'Lead_Actress', 'Rating', 'Awards_Won', 'OscarStatus', 'Budget_Million_INR_Norm'] \n",
      "\n"
     ]
    }
   ],
   "source": [
    "# Check available columns\n",
    "print(\"Columns in DataFrame:\", df_cleaned.columns.tolist(), \"\\n\")\n",
    "\n",
    "# Validate column names dynamically\n",
    "valid_columns = df_cleaned.columns.str.lower()\n",
    "\n",
    "def get_column(name_part):\n",
    "    matches = [col for col in df_cleaned.columns if name_part.lower() in col.lower()]\n",
    "    return matches[0] if matches else None\n",
    "\n",
    "\n",
    "   "
   ]
  },
  {
   "cell_type": "code",
   "execution_count": 36,
   "id": "53f98e98-2270-4fb9-a598-f28ae204025f",
   "metadata": {},
   "outputs": [],
   "source": [
    "# Assign correct column names\n",
    "imdb_column = get_column('IMDb_Rating') or 'Rating'\n",
    "box_office_column = get_column('Box_Office_Million_INR') or 'BoxOffice'\n",
    "genre_column = get_column('Genre') or 'Movie_Genre'"
   ]
  },
  {
   "cell_type": "code",
   "execution_count": 37,
   "id": "e683b49d-5d3e-4a53-9e0a-5b52893d0ec1",
   "metadata": {},
   "outputs": [
    {
     "name": "stdout",
     "output_type": "stream",
     "text": [
      "Average IMDb Rating: 6.405539999999999 \n",
      "\n",
      "Total Box Office Revenue: 4323839 \n",
      "\n",
      "Movie count per Genre:\n",
      " Movie_Genre\n",
      "Drama         669\n",
      "Comedy        645\n",
      "Romance       641\n",
      "Sci-Fi        632\n",
      "Action        614\n",
      "Historical    613\n",
      "Musical       598\n",
      "Thriller      588\n",
      "Name: count, dtype: int64 \n",
      "\n",
      "Total Box Office Revenue per Genre:\n",
      " Movie_Genre\n",
      "Action        540105\n",
      "Comedy        599021\n",
      "Drama         591920\n",
      "Historical    512393\n",
      "Musical       495875\n",
      "Romance       552896\n",
      "Sci-Fi        549774\n",
      "Thriller      481855\n",
      "Name: BoxOffice, dtype: int64 \n",
      "\n",
      "Highest IMDb Rating: 9.8 \n",
      "\n"
     ]
    }
   ],
   "source": [
    "\n",
    "# Ensure columns exist before proceeding\n",
    "if imdb_column not in df_cleaned.columns or box_office_column not in df_cleaned.columns or genre_column not in df_cleaned.columns:\n",
    "    print(\"Error: One or more required columns are missing.\")\n",
    "else:\n",
    "    # 1. Average IMDb Rating\n",
    "    avg_imdb = df_cleaned[imdb_column].mean()\n",
    "    print(\"Average IMDb Rating:\", avg_imdb, \"\\n\")\n",
    "     # 2. Total Box Office Revenue\n",
    "    total_box_office = df_cleaned[box_office_column].sum()\n",
    "    print(\"Total Box Office Revenue:\", total_box_office, \"\\n\")\n",
    " # 3. Count occurrences of each Genre\n",
    "    genre_counts = df_cleaned[genre_column].value_counts()\n",
    "    print(\"Movie count per Genre:\\n\", genre_counts, \"\\n\")\n",
    "\n",
    "    # 4. Total Box Office Revenue per Genre\n",
    "    box_office_by_genre = df_cleaned.groupby(genre_column)[box_office_column].sum()\n",
    "    print(\"Total Box Office Revenue per Genre:\\n\", box_office_by_genre, \"\\n\")\n",
    "\n",
    "    # 5. Highest IMDb Rating\n",
    "    max_imdb = df_cleaned[imdb_column].max()\n",
    "    print(\"Highest IMDb Rating:\", max_imdb, \"\\n\")\n"
   ]
  },
  {
   "cell_type": "code",
   "execution_count": 39,
   "id": "2ee8a3f5-70cc-4968-b737-95ddead2b2e1",
   "metadata": {},
   "outputs": [],
   "source": [
    "import matplotlib.pyplot as plt\n",
    "import seaborn as sns"
   ]
  },
  {
   "cell_type": "code",
   "execution_count": 40,
   "id": "8e58041f-7dc8-4b0e-8c20-b4cbc7226513",
   "metadata": {},
   "outputs": [
    {
     "data": {
      "image/png": "[encoded data removed]",
      "text/plain": [
       "<Figure size 1000x500 with 1 Axes>"
      ]
     },
     "metadata": {},
     "output_type": "display_data"
    }
   ],
   "source": [
    "# 1. Bar plot: Genre vs. Average IMDb Rating\n",
    "plt.figure(figsize=(10,5))\n",
    "genre_avg_rating = df_cleaned.groupby('Movie_Genre')['Rating'].mean().reset_index()\n",
    "sns.barplot(data=genre_avg_rating, x='Movie_Genre', y='Rating', hue='Movie_Genre', palette=\"viridis\", legend=False)\n",
    "plt.xticks(rotation=45)\n",
    "plt.title(\"Average IMDb Rating by Genre\")\n",
    "plt.xlabel(\"Genre\")\n",
    "plt.ylabel(\"Average Rating\")\n",
    "plt.show()"
   ]
  },
  {
   "cell_type": "code",
   "execution_count": 41,
   "id": "bcb29569-4c75-4ccf-a8e9-451db27a308e",
   "metadata": {},
   "outputs": [
    {
     "data": {
      "image/png": "[encoded data removed]",
      "text/plain": [
       "<Figure size 1000x500 with 1 Axes>"
      ]
     },
     "metadata": {},
     "output_type": "display_data"
    }
   ],
   "source": [
    "# 2. Line plot: IMDb Rating over index\n",
    "plt.figure(figsize=(10,5))\n",
    "sns.lineplot(data=df_cleaned, x=df_cleaned.index, y='Rating', color='blue')\n",
    "plt.title(\"IMDb Rating Over Index\")\n",
    "plt.xlabel(\"Index\")\n",
    "plt.ylabel(\"IMDb Rating\")\n",
    "plt.show()"
   ]
  },
  {
   "cell_type": "code",
   "execution_count": 42,
   "id": "39402ba1-2e9c-4f88-96c2-ae33a7553ef3",
   "metadata": {},
   "outputs": [
    {
     "data": {
      "image/png": "[encoded data removed]",
      "text/plain": [
       "<Figure size 800x500 with 1 Axes>"
      ]
     },
     "metadata": {},
     "output_type": "display_data"
    }
   ],
   "source": [
    "# 3. Histogram: Distribution of IMDb Ratings\n",
    "plt.figure(figsize=(8,5))\n",
    "sns.histplot(df_cleaned['Rating'], bins=20, kde=True, color='green')\n",
    "plt.title(\"Distribution of IMDb Ratings\")\n",
    "plt.xlabel(\"IMDb Rating\")\n",
    "plt.ylabel(\"Count\")\n",
    "plt.show()"
   ]
  },
  {
   "cell_type": "code",
   "execution_count": 43,
   "id": "16ad3f2a-9fc7-4055-b033-b6c18cc86692",
   "metadata": {},
   "outputs": [
    {
     "data": {
      "image/png": "[encoded data removed]",
      "text/plain": [
       "<Figure size 800x800 with 1 Axes>"
      ]
     },
     "metadata": {},
     "output_type": "display_data"
    }
   ],
   "source": [
    "# 4. Pie Chart: Distribution of Movies by Genre\n",
    "plt.figure(figsize=(8,8))\n",
    "df_cleaned['Movie_Genre'].value_counts().plot.pie(autopct='%1.1f%%', cmap='viridis')\n",
    "plt.title(\"Movie Distribution by Genre\")\n",
    "plt.ylabel(\"\")\n",
    "plt.show()"
   ]
  },
  {
   "cell_type": "code",
   "execution_count": 44,
   "id": "23b8bea9-39c8-4aaa-8996-5c6aefa6e441",
   "metadata": {},
   "outputs": [
    {
     "data": {
      "image/png": "[encoded data removed]",
      "text/plain": [
       "<Figure size 800x500 with 1 Axes>"
      ]
     },
     "metadata": {},
     "output_type": "display_data"
    }
   ],
   "source": [
    "# 5. Scatter Plot: IMDb Rating vs. Box Office Revenue\n",
    "plt.figure(figsize=(8,5))\n",
    "sns.scatterplot(x=df_cleaned['Rating'], y=df_cleaned['BoxOffice'], alpha=0.6, color='red')\n",
    "plt.title(\"IMDb Rating vs. Box Office Revenue\")\n",
    "plt.xlabel(\"IMDb Rating\")\n",
    "plt.ylabel(\"Box Office Revenue\")\n",
    "plt.show()"
   ]
  },
  {
   "cell_type": "code",
   "execution_count": 45,
   "id": "94a44aef-c9e8-48ac-8211-49e49130eaa0",
   "metadata": {},
   "outputs": [
    {
     "data": {
      "image/png": "[encoded data removed]",
      "text/plain": [
       "<Figure size 600x500 with 1 Axes>"
      ]
     },
     "metadata": {},
     "output_type": "display_data"
    }
   ],
   "source": [
    "# 6. Box Plot: IMDb Ratings\n",
    "plt.figure(figsize=(6,5))\n",
    "sns.boxplot(y=df_cleaned['Rating'], color='purple')\n",
    "plt.title(\"Box Plot of IMDb Ratings\")\n",
    "plt.ylabel(\"IMDb Rating\")\n",
    "plt.show()\n"
   ]
  },
  {
   "cell_type": "code",
   "execution_count": null,
   "id": "4cc9847d-f204-4f30-b970-6f308248cca8",
   "metadata": {},
   "outputs": [],
   "source": [
    "# Check available columns\n",
    "print(\"Columns in DataFrame:\", df_cleaned.columns.tolist(), \"\\n\")\n",
    "\n",
    "# Ensure the correct column names\n",
    "valid_columns = df_cleaned.columns.str.lower()\n",
    "\n",
    "def get_column(name_part):\n",
    "    matches = [col for col in df_cleaned.columns if name_part.lower() in col.lower()]\n",
    "    return matches[0] if matches else None\n",
    "\n",
    "# Assign correct column names\n",
    "genre_column = get_column('Genre') or 'Movie_Genre'\n",
    "director_column = get_column('Director') or 'Director'\n",
    "lead_actor_column = get_column('Lead_Actor') or 'Lead_Actor'\n",
    "lead_actress_column = get_column('Lead_Actress') or 'Lead_Actress'\n",
    "movie_title_column = get_column('Movie_Title') or 'Movie_Title'\n",
    "\n",
    "# Ensure columns exist before proceeding\n",
    "if genre_column not in df_cleaned.columns or director_column not in df_cleaned.columns:\n",
    "    print(\"Error: One or more required columns are missing.\")\n",
    "else:\n",
    "    # 1. Convert 'Genre' values to lowercase\n",
    "    df_cleaned[genre_column] = df_cleaned[genre_column].str.lower()\n",
    "    print(\"Updated Genre column:\\n\", df_cleaned[genre_column].head(), \"\\n\")\n",
    "\n",
    "    # 2. Extract first 3 characters of 'Director'\n",
    "    df_cleaned['Director_Short'] = df_cleaned[director_column].str[:3]\n",
    "    print(\"First 5 rows of 'Director_Short':\\n\", df_cleaned[[director_column, 'Director_Short']].head(), \"\\n\")\n",
    "\n",
    "    # 3. Split 'Movie_Title' into 'Movie_Name' and 'ID'\n",
    "    df_cleaned[['Movie_Name', 'Movie_ID_Split']] = df_cleaned[movie_title_column].str.rsplit('_', n=1, expand=True)\n",
    "    print(\"First 5 rows after splitting 'Movie_Title':\\n\", df_cleaned[[movie_title_column, 'Movie_Name', 'Movie_ID_Split']].head(), \"\\n\")\n",
    "\n",
    "    # 4. Replace spaces in 'Lead_Actor' with underscores\n",
    "    df_cleaned[lead_actor_column] = df_cleaned[lead_actor_column].str.replace(\" \", \"_\")\n",
    "    print(\"Updated 'Lead_Actor' column:\\n\", df_cleaned[lead_actor_column].head(), \"\\n\")\n",
    "\n",
    "    # 5. Concatenate 'Lead_Actor' and 'Lead_Actress' into 'Lead_Pair'\n",
    "    df_cleaned['Lead_Pair'] = df_cleaned[lead_actor_column] + \" & \" + df_cleaned[lead_actress_column]\n",
    "    print(\"First 5 rows of 'Lead_Pair':\\n\", df_cleaned[[lead_actor_column, lead_actress_column, 'Lead_Pair']].head(), \"\\n\")\n"
   ]
  },
  {
   "cell_type": "code",
   "execution_count": 47,
   "id": "ce7d46d8-87ba-4798-bfcb-f8396aa4366f",
   "metadata": {},
   "outputs": [
    {
     "name": "stdout",
     "output_type": "stream",
     "text": [
      "First row:\n",
      " Movie_ID                               1\n",
      "Movie_Title                   3 Idiots_1\n",
      "Budget                                84\n",
      "BoxOffice                            324\n",
      "Movie_Genre                       Comedy\n",
      "Director                    Director_124\n",
      "Lead_Actor                 Ranbir Kapoor\n",
      "Lead_Actress                Katrina Kaif\n",
      "Rating                               6.3\n",
      "Awards_Won                             7\n",
      "OscarStatus                Not Nominated\n",
      "Budget_Million_INR_Norm         0.151329\n",
      "Name: 0, dtype: object \n",
      "\n"
     ]
    }
   ],
   "source": [
    "# 1. Select first row\n",
    "first_row = df_cleaned.iloc[0]\n",
    "print(\"First row:\\n\", first_row, \"\\n\")"
   ]
  },
  {
   "cell_type": "code",
   "execution_count": 48,
   "id": "035c8e86-701a-4a11-816d-b05ec46dd17f",
   "metadata": {},
   "outputs": [
    {
     "name": "stdout",
     "output_type": "stream",
     "text": [
      "Last three rows:\n",
      "       Movie_ID Movie_Title  Budget  BoxOffice Movie_Genre     Director  \\\n",
      "4997      4998     PK_4998     477       2566      Sci-Fi  Director_93   \n",
      "4998      4999     PK_4999     290        892      Sci-Fi  Director_32   \n",
      "4999      5000    War_5000     150        330    Thriller  Director_13   \n",
      "\n",
      "          Lead_Actor     Lead_Actress  Rating  Awards_Won    OscarStatus  \\\n",
      "4997   Ranbir Kapoor  Priyanka Chopra     5.1           6  Not Nominated   \n",
      "4998      Aamir Khan   Kareena Kapoor     5.1           7  Not Nominated   \n",
      "4999  Shah Rukh Khan   Kareena Kapoor     6.9          12  Not Nominated   \n",
      "\n",
      "      Budget_Million_INR_Norm  \n",
      "4997                 0.955010  \n",
      "4998                 0.572597  \n",
      "4999                 0.286299   \n",
      "\n"
     ]
    }
   ],
   "source": [
    "# 2. Select last 3 rows\n",
    "last_three_rows = df_cleaned.iloc[-3:]\n",
    "print(\"Last three rows:\\n\", last_three_rows, \"\\n\")\n"
   ]
  },
  {
   "cell_type": "code",
   "execution_count": 49,
   "id": "f694264e-aecd-493c-9164-7f94632f5666",
   "metadata": {},
   "outputs": [
    {
     "name": "stdout",
     "output_type": "stream",
     "text": [
      "Subset (5 rows x 3 columns):\n",
      "    Movie_ID   Movie_Title  Budget\n",
      "0         1    3 Idiots_1      84\n",
      "1         2  Jab We Met_2     261\n",
      "2         3       Raazi_3      68\n",
      "3         4     Tamasha_4     382\n",
      "4         5      Kesari_5     245 \n",
      "\n"
     ]
    }
   ],
   "source": [
    "# 3. Select first 5 rows and first 3 columns\n",
    "subset_5x3 = df_cleaned.iloc[:5, :3]\n",
    "print(\"Subset (5 rows x 3 columns):\\n\", subset_5x3, \"\\n\")\n",
    "\n"
   ]
  },
  {
   "cell_type": "code",
   "execution_count": 50,
   "id": "bfa4656c-96c2-4d0b-adb1-06a04c3d771f",
   "metadata": {},
   "outputs": [
    {
     "name": "stdout",
     "output_type": "stream",
     "text": [
      "Value at 4th row, 2nd column: Tamasha_4 \n",
      "\n"
     ]
    }
   ],
   "source": [
    "# 4. Select value at 4th row and 2nd column\n",
    "value_4_2 = df_cleaned.iloc[3, 1]\n",
    "print(\"Value at 4th row, 2nd column:\", value_4_2, \"\\n\")"
   ]
  },
  {
   "cell_type": "code",
   "execution_count": 53,
   "id": "01fc19e9-d384-42e3-98b3-0f9b15aead14",
   "metadata": {},
   "outputs": [
    {
     "name": "stdout",
     "output_type": "stream",
     "text": [
      "Movies with IMDb Rating > 8:\n",
      "     Movie_ID    Movie_Title  Budget  BoxOffice Movie_Genre      Director  \\\n",
      "1          2   Jab We Met_2     261        678  Historical  Director_289   \n",
      "3          4      Tamasha_4     382        863  Historical  Director_249   \n",
      "5          6       Swades_6      28         88      Comedy  Director_114   \n",
      "13        14  Chhichhore_14      72         63  Historical  Director_132   \n",
      "18        19   Baahubali_19      39        205    Thriller  Director_253   \n",
      "\n",
      "        Lead_Actor     Lead_Actress  Rating  Awards_Won    OscarStatus  \\\n",
      "1   Hrithik Roshan       Alia Bhatt     8.3           0  Not Nominated   \n",
      "3    Ranveer Singh  Priyanka Chopra     8.8          13  Not Nominated   \n",
      "5    Ranveer Singh     Katrina Kaif     8.3          10            Yes   \n",
      "13    Akshay Kumar   Anushka Sharma     8.2          10  Not Nominated   \n",
      "18      Aamir Khan   Anushka Sharma     8.3           5  Not Nominated   \n",
      "\n",
      "    Budget_Million_INR_Norm  \n",
      "1                  0.513292  \n",
      "3                  0.760736  \n",
      "5                  0.036810  \n",
      "13                 0.126789  \n",
      "18                 0.059305   \n",
      "\n"
     ]
    }
   ],
   "source": [
    "# 5. Select movies with IMDb Rating > 8 using loc\n",
    "high_imdb_movies = df_cleaned.loc[df_cleaned[imdb_column] > 8]\n",
    "print(\"Movies with IMDb Rating > 8:\\n\", high_imdb_movies.head(), \"\\n\")\n"
   ]
  },
  {
   "cell_type": "code",
   "execution_count": 54,
   "id": "263ecb0b-6a9f-4833-b9a4-d2aadad88f6f",
   "metadata": {},
   "outputs": [
    {
     "name": "stdout",
     "output_type": "stream",
     "text": [
      "Row where Movie_Title is '3 Idiots':\n",
      " Empty DataFrame\n",
      "Columns: [Movie_ID, Movie_Title, Budget, BoxOffice, Movie_Genre, Director, Lead_Actor, Lead_Actress, Rating, Awards_Won, OscarStatus, Budget_Million_INR_Norm]\n",
      "Index: [] \n",
      "\n"
     ]
    }
   ],
   "source": [
    "# 1. Select the row where the Movie_Title is \"3 Idiots\" using loc.\n",
    "alice_row = df_cleaned.loc[df_cleaned['Movie_Title'] == \"3 Idiots\"]\n",
    "print(\"Row where Movie_Title is '3 Idiots':\\n\", alice_row, \"\\n\")"
   ]
  },
  {
   "cell_type": "code",
   "execution_count": 55,
   "id": "7d252d33-3d8d-4c0e-80c3-223a56617181",
   "metadata": {},
   "outputs": [
    {
     "name": "stdout",
     "output_type": "stream",
     "text": [
      "Rows where Rating is greater than 8:\n",
      "     Movie_ID    Movie_Title  Budget  BoxOffice Movie_Genre      Director  \\\n",
      "1          2   Jab We Met_2     261        678  Historical  Director_289   \n",
      "3          4      Tamasha_4     382        863  Historical  Director_249   \n",
      "5          6       Swades_6      28         88      Comedy  Director_114   \n",
      "13        14  Chhichhore_14      72         63  Historical  Director_132   \n",
      "18        19   Baahubali_19      39        205    Thriller  Director_253   \n",
      "\n",
      "        Lead_Actor     Lead_Actress  Rating  Awards_Won    OscarStatus  \\\n",
      "1   Hrithik Roshan       Alia Bhatt     8.3           0  Not Nominated   \n",
      "3    Ranveer Singh  Priyanka Chopra     8.8          13  Not Nominated   \n",
      "5    Ranveer Singh     Katrina Kaif     8.3          10            Yes   \n",
      "13    Akshay Kumar   Anushka Sharma     8.2          10  Not Nominated   \n",
      "18      Aamir Khan   Anushka Sharma     8.3           5  Not Nominated   \n",
      "\n",
      "    Budget_Million_INR_Norm  \n",
      "1                  0.513292  \n",
      "3                  0.760736  \n",
      "5                  0.036810  \n",
      "13                 0.126789  \n",
      "18                 0.059305   \n",
      "\n"
     ]
    }
   ],
   "source": [
    "# 2. Select rows where the Rating is greater than 8 using loc.\n",
    "above_8_rating = df_cleaned.loc[df_cleaned['Rating'] > 8]\n",
    "print(\"Rows where Rating is greater than 8:\\n\", above_8_rating.head(), \"\\n\")"
   ]
  },
  {
   "cell_type": "code",
   "execution_count": 56,
   "id": "4bd0f1fa-5acb-4f2b-bbfe-8e8a800e7252",
   "metadata": {},
   "outputs": [
    {
     "name": "stdout",
     "output_type": "stream",
     "text": [
      "Movie_Genre for movies with Rating between 7 and 9:\n",
      "   Movie_Genre\n",
      "1  Historical\n",
      "3  Historical\n",
      "4      Sci-Fi\n",
      "5      Comedy\n",
      "7      Sci-Fi \n",
      "\n"
     ]
    }
   ],
   "source": [
    "# 3. Select the Movie_Genre column for rows where Rating is between 7 and 9 using loc.\n",
    "selected_genre = df_cleaned.loc[(df_cleaned['Rating'] >= 7) & (df_cleaned['Rating'] <= 9), ['Movie_Genre']]\n",
    "print(\"Movie_Genre for movies with Rating between 7 and 9:\\n\", selected_genre.head(), \"\\n\")\n"
   ]
  },
  {
   "cell_type": "code",
   "execution_count": 57,
   "id": "70f598ba-4a46-43bf-bbd8-e0cf8a91e0af",
   "metadata": {},
   "outputs": [
    {
     "name": "stdout",
     "output_type": "stream",
     "text": [
      "All movies in the 'Drama' genre:\n",
      "     Movie_ID   Movie_Title  Budget  BoxOffice Movie_Genre      Director  \\\n",
      "15        16     Swades_16     427       1976       Drama  Director_161   \n",
      "16        17  Gully Boy_17     424       2397       Drama  Director_144   \n",
      "19        20      Sanju_20     474       2338       Drama  Director_184   \n",
      "27        28    Tanhaji_28     423       1259       Drama  Director_113   \n",
      "34        35         PK_35     214        617       Drama  Director_184   \n",
      "\n",
      "        Lead_Actor     Lead_Actress  Rating  Awards_Won    OscarStatus  \\\n",
      "15  Shah Rukh Khan     Katrina Kaif     7.9          14  Not Nominated   \n",
      "16     Salman Khan     Katrina Kaif     3.7          11  Not Nominated   \n",
      "19  Shah Rukh Khan   Anushka Sharma     6.8          12  Not Nominated   \n",
      "27  Shah Rukh Khan  Priyanka Chopra     4.4           9  Not Nominated   \n",
      "34    Akshay Kumar   Kareena Kapoor     8.3          13  Not Nominated   \n",
      "\n",
      "    Budget_Million_INR_Norm  \n",
      "15                 0.852761  \n",
      "16                 0.846626  \n",
      "19                 0.948875  \n",
      "27                 0.844581  \n",
      "34                 0.417178   \n",
      "\n"
     ]
    }
   ],
   "source": [
    "# 4. Select all rows and columns where Movie_Genre is \"Drama\" using loc.\n",
    "drama_movies = df_cleaned.loc[df_cleaned['Movie_Genre'] == \"Drama\"]\n",
    "print(\"All movies in the 'Drama' genre:\\n\", drama_movies.head(), \"\\n\")"
   ]
  },
  {
   "cell_type": "code",
   "execution_count": 58,
   "id": "fc8e3b5a-8032-4eb2-95e8-04e6af3318b3",
   "metadata": {},
   "outputs": [
    {
     "name": "stdout",
     "output_type": "stream",
     "text": [
      "Specific row with Movie_Title and Movie_Genre:\n",
      " Movie_Title    3 Idiots_11\n",
      "Movie_Genre        Romance\n",
      "Name: 10, dtype: object \n",
      "\n"
     ]
    }
   ],
   "source": [
    "# 5. Select multiple columns (Movie_Title, Movie_Genre) for a specific row using loc.\n",
    "specific_row = df_cleaned.loc[10, ['Movie_Title', 'Movie_Genre']]\n",
    "print(\"Specific row with Movie_Title and Movie_Genre:\\n\", specific_row, \"\\n\")"
   ]
  },
  {
   "cell_type": "code",
   "execution_count": 59,
   "id": "9876bb47-b002-493b-8f63-ef4644308c7e",
   "metadata": {},
   "outputs": [
    {
     "name": "stdout",
     "output_type": "stream",
     "text": [
      "Comedy movies with Rating > 7.5:\n",
      "      Movie_ID     Movie_Title  Budget  BoxOffice Movie_Genre      Director  \\\n",
      "5           6        Swades_6      28         88      Comedy  Director_114   \n",
      "47         48        Sanju_48      99        327      Comedy  Director_248   \n",
      "72         73          War_73     415       2027      Comedy   Director_43   \n",
      "188       189  Jab We Met_189     248        603      Comedy   Director_12   \n",
      "221       222      Lagaan_222     220        339      Comedy  Director_178   \n",
      "\n",
      "         Lead_Actor      Lead_Actress  Rating  Awards_Won    OscarStatus  \\\n",
      "5     Ranveer Singh      Katrina Kaif     8.3          10            Yes   \n",
      "47   Shah Rukh Khan  Deepika Padukone     7.7           6  Not Nominated   \n",
      "72    Ranbir Kapoor   Priyanka Chopra     9.8          13  Not Nominated   \n",
      "188      Aamir Khan    Anushka Sharma     8.0           1  Not Nominated   \n",
      "221  Hrithik Roshan    Anushka Sharma     9.3           3  Not Nominated   \n",
      "\n",
      "     Budget_Million_INR_Norm  \n",
      "5                   0.036810  \n",
      "47                  0.182004  \n",
      "72                  0.828221  \n",
      "188                 0.486708  \n",
      "221                 0.429448   \n",
      "\n"
     ]
    }
   ],
   "source": [
    "# 6. Use loc to select the row where Rating is greater than 7.5 and the Movie_Genre is \"Comedy\".\n",
    "comedy_movies = df_cleaned.loc[(df_cleaned['Rating'] > 7.5) & (df_cleaned['Movie_Genre'] == \"Comedy\")]\n",
    "print(\"Comedy movies with Rating > 7.5:\\n\", comedy_movies.head(), \"\\n\")\n"
   ]
  },
  {
   "cell_type": "code",
   "execution_count": 70,
   "id": "e2fe5406-e144-4d2b-8fa2-932acbf4a15b",
   "metadata": {},
   "outputs": [
    {
     "name": "stdout",
     "output_type": "stream",
     "text": [
      "Updated 'Movie_Genre' column:\n",
      " 0        Comedy\n",
      "1    Historical\n",
      "2        Sci-Fi\n",
      "3    Historical\n",
      "4        Sci-Fi\n",
      "Name: Movie_Genre, dtype: object \n",
      "\n"
     ]
    }
   ],
   "source": [
    "# 1. Replace all occurrences of 'Drama' with 'Dramatic' in the Movie_Genre column\n",
    "df_cleaned['Movie_Genre'] = df_cleaned['Movie_Genre'].replace('Drama', 'Dramatic')\n",
    "print(\"Updated 'Movie_Genre' column:\\n\", df_cleaned['Movie_Genre'].head(), \"\\n\")\n"
   ]
  },
  {
   "cell_type": "code",
   "execution_count": 71,
   "id": "344e06a8-93ed-4157-a867-69a9ea0f7d92",
   "metadata": {},
   "outputs": [
    {
     "name": "stdout",
     "output_type": "stream",
     "text": [
      "Updated 'Rating' column with NaN for 0 values:\n",
      " 0    6.3\n",
      "1    8.3\n",
      "2    5.1\n",
      "3    8.8\n",
      "4    7.8\n",
      "Name: Rating, dtype: float64 \n",
      "\n"
     ]
    }
   ],
   "source": [
    "# 2. Replace the value 0 with NaN in the Rating column\n",
    "df_cleaned['Rating'] = df_cleaned['Rating'].replace(0, pd.NA)\n",
    "print(\"Updated 'Rating' column with NaN for 0 values:\\n\", df_cleaned['Rating'].head(), \"\\n\")\n"
   ]
  },
  {
   "cell_type": "code",
   "execution_count": 72,
   "id": "7598dcb6-a02f-45da-9e30-a39b4b839de0",
   "metadata": {},
   "outputs": [
    {
     "name": "stdout",
     "output_type": "stream",
     "text": [
      "DataFrame after replacing all 100s with 50s:\n",
      "    Movie_ID   Movie_Title  Budget  BoxOffice Movie_Genre      Director  \\\n",
      "0         1    3 Idiots_1      84        324      Comedy  Director_124   \n",
      "1         2  Jab We Met_2     261        678  Historical  Director_289   \n",
      "2         3       Raazi_3      68        224      Sci-Fi   Director_95   \n",
      "3         4     Tamasha_4     382        863  Historical  Director_249   \n",
      "4         5      Kesari_5     245        879      Sci-Fi   Director_69   \n",
      "\n",
      "       Lead_Actor      Lead_Actress  Rating  Awards_Won    OscarStatus  \\\n",
      "0   Ranbir Kapoor      Katrina Kaif     6.3           7  Not Nominated   \n",
      "1  Hrithik Roshan        Alia Bhatt     8.3           0  Not Nominated   \n",
      "2   Ranveer Singh    Anushka Sharma     5.1           4  Not Nominated   \n",
      "3   Ranveer Singh   Priyanka Chopra     8.8          13  Not Nominated   \n",
      "4      Aamir Khan  Deepika Padukone     7.8           3  Not Nominated   \n",
      "\n",
      "   Budget_Million_INR_Norm  \n",
      "0                 0.151329  \n",
      "1                 0.513292  \n",
      "2                 0.118609  \n",
      "3                 0.760736  \n",
      "4                 0.480573   \n",
      "\n"
     ]
    }
   ],
   "source": [
    "# 3. Replace all occurrences of 100 with 50 in the entire DataFrame\n",
    "df_cleaned.replace(100, 50, inplace=True)\n",
    "print(\"DataFrame after replacing all 100s with 50s:\\n\", df_cleaned.head(), \"\\n\")"
   ]
  },
  {
   "cell_type": "code",
   "execution_count": 73,
   "id": "dcae3855-b738-49c3-b75a-1e3e0b797fba",
   "metadata": {},
   "outputs": [
    {
     "name": "stdout",
     "output_type": "stream",
     "text": [
      "Updated 'OscarStatus' column:\n",
      " 0    Not Nominated\n",
      "1    Not Nominated\n",
      "2    Not Nominated\n",
      "3    Not Nominated\n",
      "4    Not Nominated\n",
      "Name: OscarStatus, dtype: object \n",
      "\n"
     ]
    }
   ],
   "source": [
    "# 4. Replace 'Yes' with 1 and 'No' with 0 in the OscarStatus column\n",
    "df_cleaned['OscarStatus'] = df_cleaned['OscarStatus'].replace({'Yes': 1, 'No': 0})\n",
    "print(\"Updated 'OscarStatus' column:\\n\", df_cleaned['OscarStatus'].head(), \"\\n\")"
   ]
  },
  {
   "cell_type": "code",
   "execution_count": 74,
   "id": "b9b82cb8-8aae-4269-a2ac-fa5352518f3a",
   "metadata": {},
   "outputs": [
    {
     "name": "stdout",
     "output_type": "stream",
     "text": [
      "Updated 'Awards_Won' column:\n",
      " 0     7\n",
      "1     0\n",
      "2     4\n",
      "3    13\n",
      "4     3\n",
      "Name: Awards_Won, dtype: int64 \n",
      "\n"
     ]
    }
   ],
   "source": [
    "# 5. Replace multiple values in Awards_Won column ('High' with 'Medium', 'Low' with 'Small')\n",
    "df_cleaned['Awards_Won'] = df_cleaned['Awards_Won'].replace({'High': 'Medium', 'Low': 'Small'})\n",
    "print(\"Updated 'Awards_Won' column:\\n\", df_cleaned['Awards_Won'].head(), \"\\n\")\n"
   ]
  },
  {
   "cell_type": "code",
   "execution_count": 75,
   "id": "9c14fe1b-ac1a-4b63-ba39-4b134bafa694",
   "metadata": {},
   "outputs": [
    {
     "name": "stdout",
     "output_type": "stream",
     "text": [
      "Updated 'Awards_Won' column:\n",
      " 0     7\n",
      "1     0\n",
      "2     4\n",
      "3    13\n",
      "4     3\n",
      "Name: Awards_Won, dtype: int64 \n",
      "\n"
     ]
    }
   ],
   "source": [
    "# 5. Replace multiple values in Awards_Won column ('High' with 'Medium', 'Low' with 'Small')\n",
    "df_cleaned['Awards_Won'] = df_cleaned['Awards_Won'].replace({'High': 'Medium', 'Low': 'Small'})\n",
    "print(\"Updated 'Awards_Won' column:\\n\", df_cleaned['Awards_Won'].head(), \"\\n\")\n"
   ]
  },
  {
   "cell_type": "code",
   "execution_count": 76,
   "id": "65331ae2-1caa-428a-a3bf-1a0f556e148a",
   "metadata": {},
   "outputs": [
    {
     "name": "stdout",
     "output_type": "stream",
     "text": [
      "DataFrame after setting 'Movie_Title' as index:\n",
      "               Movie_ID  Budget  BoxOffice Movie_Genre      Director  \\\n",
      "Movie_Title                                                           \n",
      "3 Idiots_1           1      84        324      Comedy  Director_124   \n",
      "Jab We Met_2         2     261        678  Historical  Director_289   \n",
      "Raazi_3              3      68        224      Sci-Fi   Director_95   \n",
      "Tamasha_4            4     382        863  Historical  Director_249   \n",
      "Kesari_5             5     245        879      Sci-Fi   Director_69   \n",
      "\n",
      "                  Lead_Actor      Lead_Actress  Rating  Awards_Won  \\\n",
      "Movie_Title                                                          \n",
      "3 Idiots_1     Ranbir Kapoor      Katrina Kaif     6.3           7   \n",
      "Jab We Met_2  Hrithik Roshan        Alia Bhatt     8.3           0   \n",
      "Raazi_3        Ranveer Singh    Anushka Sharma     5.1           4   \n",
      "Tamasha_4      Ranveer Singh   Priyanka Chopra     8.8          13   \n",
      "Kesari_5          Aamir Khan  Deepika Padukone     7.8           3   \n",
      "\n",
      "                OscarStatus  Budget_Million_INR_Norm  \n",
      "Movie_Title                                           \n",
      "3 Idiots_1    Not Nominated                 0.151329  \n",
      "Jab We Met_2  Not Nominated                 0.513292  \n",
      "Raazi_3       Not Nominated                 0.118609  \n",
      "Tamasha_4     Not Nominated                 0.760736  \n",
      "Kesari_5      Not Nominated                 0.480573   \n",
      "\n"
     ]
    }
   ],
   "source": [
    "# 1. Set 'Movie_Title' as the index of the DataFrame\n",
    "df_cleaned.set_index('Movie_Title', inplace=True)\n",
    "print(\"DataFrame after setting 'Movie_Title' as index:\\n\", df_cleaned.head(), \"\\n\")"
   ]
  },
  {
   "cell_type": "code",
   "execution_count": 77,
   "id": "ca0d916c-c132-427a-aa85-041b18eb498a",
   "metadata": {},
   "outputs": [
    {
     "name": "stdout",
     "output_type": "stream",
     "text": [
      "DataFrame after resetting index:\n",
      "     Movie_Title  Movie_ID  Budget  BoxOffice Movie_Genre      Director  \\\n",
      "0    3 Idiots_1         1      84        324      Comedy  Director_124   \n",
      "1  Jab We Met_2         2     261        678  Historical  Director_289   \n",
      "2       Raazi_3         3      68        224      Sci-Fi   Director_95   \n",
      "3     Tamasha_4         4     382        863  Historical  Director_249   \n",
      "4      Kesari_5         5     245        879      Sci-Fi   Director_69   \n",
      "\n",
      "       Lead_Actor      Lead_Actress  Rating  Awards_Won    OscarStatus  \\\n",
      "0   Ranbir Kapoor      Katrina Kaif     6.3           7  Not Nominated   \n",
      "1  Hrithik Roshan        Alia Bhatt     8.3           0  Not Nominated   \n",
      "2   Ranveer Singh    Anushka Sharma     5.1           4  Not Nominated   \n",
      "3   Ranveer Singh   Priyanka Chopra     8.8          13  Not Nominated   \n",
      "4      Aamir Khan  Deepika Padukone     7.8           3  Not Nominated   \n",
      "\n",
      "   Budget_Million_INR_Norm  \n",
      "0                 0.151329  \n",
      "1                 0.513292  \n",
      "2                 0.118609  \n",
      "3                 0.760736  \n",
      "4                 0.480573   \n",
      "\n"
     ]
    }
   ],
   "source": [
    "# 2. Reset the index of the DataFrame\n",
    "df_cleaned.reset_index(inplace=True)\n",
    "print(\"DataFrame after resetting index:\\n\", df_cleaned.head(), \"\\n\")\n"
   ]
  },
  {
   "cell_type": "code",
   "execution_count": 78,
   "id": "0c9641e3-164f-4f02-b9b8-f611f93ed875",
   "metadata": {},
   "outputs": [
    {
     "name": "stdout",
     "output_type": "stream",
     "text": [
      "DataFrame after setting multi-level index (Movie_Genre, Rating):\n",
      "                      Movie_Title  Movie_ID  Budget  BoxOffice      Director  \\\n",
      "Movie_Genre Rating                                                            \n",
      "Comedy      6.3       3 Idiots_1         1      84        324  Director_124   \n",
      "Historical  8.3     Jab We Met_2         2     261        678  Director_289   \n",
      "Sci-Fi      5.1          Raazi_3         3      68        224   Director_95   \n",
      "Historical  8.8        Tamasha_4         4     382        863  Director_249   \n",
      "Sci-Fi      7.8         Kesari_5         5     245        879   Director_69   \n",
      "\n",
      "                        Lead_Actor      Lead_Actress  Awards_Won  \\\n",
      "Movie_Genre Rating                                                 \n",
      "Comedy      6.3      Ranbir Kapoor      Katrina Kaif           7   \n",
      "Historical  8.3     Hrithik Roshan        Alia Bhatt           0   \n",
      "Sci-Fi      5.1      Ranveer Singh    Anushka Sharma           4   \n",
      "Historical  8.8      Ranveer Singh   Priyanka Chopra          13   \n",
      "Sci-Fi      7.8         Aamir Khan  Deepika Padukone           3   \n",
      "\n",
      "                      OscarStatus  Budget_Million_INR_Norm  \n",
      "Movie_Genre Rating                                          \n",
      "Comedy      6.3     Not Nominated                 0.151329  \n",
      "Historical  8.3     Not Nominated                 0.513292  \n",
      "Sci-Fi      5.1     Not Nominated                 0.118609  \n",
      "Historical  8.8     Not Nominated                 0.760736  \n",
      "Sci-Fi      7.8     Not Nominated                 0.480573   \n",
      "\n"
     ]
    }
   ],
   "source": [
    "# 3. Set a multi-level index using 'Movie_Genre' and 'Rating'\n",
    "df_cleaned.set_index(['Movie_Genre', 'Rating'], inplace=True)\n",
    "print(\"DataFrame after setting multi-level index (Movie_Genre, Rating):\\n\", df_cleaned.head(), \"\\n\")\n"
   ]
  },
  {
   "cell_type": "code",
   "execution_count": 79,
   "id": "0ee2e6c3-c499-44ae-966d-8afb86a47ab1",
   "metadata": {},
   "outputs": [
    {
     "name": "stdout",
     "output_type": "stream",
     "text": [
      "Row where Movie_Genre is 'Drama':\n",
      " Genre not found \n",
      "\n"
     ]
    }
   ],
   "source": [
    "# 4. Access a specific row using the index after setting 'Movie_Genre' as the index\n",
    "df_cleaned.reset_index(inplace=True)\n",
    "df_cleaned.set_index('Movie_Genre', inplace=True)\n",
    "specific_row = df_cleaned.loc['Drama'] if 'Drama' in df_cleaned.index else \"Genre not found\"\n",
    "print(\"Row where Movie_Genre is 'Drama':\\n\", specific_row, \"\\n\")\n"
   ]
  },
  {
   "cell_type": "code",
   "execution_count": 80,
   "id": "d65945b4-7f6c-4021-bb1b-0d6f9968a1e0",
   "metadata": {},
   "outputs": [
    {
     "name": "stdout",
     "output_type": "stream",
     "text": [
      "Index type: <class 'pandas.core.indexes.base.Index'>\n",
      "Is index unique?: False \n",
      "\n"
     ]
    }
   ],
   "source": [
    "# 5. Check the index type and uniqueness\n",
    "print(\"Index type:\", type(df_cleaned.index))\n",
    "print(\"Is index unique?:\", df_cleaned.index.is_unique, \"\\n\")\n"
   ]
  },
  {
   "cell_type": "code",
   "execution_count": 81,
   "id": "b8124630-f3bd-4afa-8d62-b66a2055594d",
   "metadata": {},
   "outputs": [
    {
     "name": "stdout",
     "output_type": "stream",
     "text": [
      "DataFrame after renaming index labels:\n",
      "       Movie_Genre  Rating   Movie_Title  Movie_ID  Budget  BoxOffice  \\\n",
      "Row_1      Comedy     6.3    3 Idiots_1         1      84        324   \n",
      "Row_2  Historical     8.3  Jab We Met_2         2     261        678   \n",
      "Row_3      Sci-Fi     5.1       Raazi_3         3      68        224   \n",
      "Row_4  Historical     8.8     Tamasha_4         4     382        863   \n",
      "Row_5      Sci-Fi     7.8      Kesari_5         5     245        879   \n",
      "\n",
      "           Director      Lead_Actor      Lead_Actress  Awards_Won  \\\n",
      "Row_1  Director_124   Ranbir Kapoor      Katrina Kaif           7   \n",
      "Row_2  Director_289  Hrithik Roshan        Alia Bhatt           0   \n",
      "Row_3   Director_95   Ranveer Singh    Anushka Sharma           4   \n",
      "Row_4  Director_249   Ranveer Singh   Priyanka Chopra          13   \n",
      "Row_5   Director_69      Aamir Khan  Deepika Padukone           3   \n",
      "\n",
      "         OscarStatus  Budget_Million_INR_Norm  \n",
      "Row_1  Not Nominated                 0.151329  \n",
      "Row_2  Not Nominated                 0.513292  \n",
      "Row_3  Not Nominated                 0.118609  \n",
      "Row_4  Not Nominated                 0.760736  \n",
      "Row_5  Not Nominated                 0.480573   \n",
      "\n"
     ]
    }
   ],
   "source": [
    "# 6. Rename the index labels to 'Row_1', 'Row_2', etc.\n",
    "df_cleaned.reset_index(inplace=True)\n",
    "df_cleaned.index = [f\"Row_{i+1}\" for i in range(len(df_cleaned))]\n",
    "print(\"DataFrame after renaming index labels:\\n\", df_cleaned.head(), \"\\n\")\n"
   ]
  },
  {
   "cell_type": "code",
   "execution_count": 82,
   "id": "8f1b89f0-89a1-4b9d-bf0b-7d82f01dd11d",
   "metadata": {},
   "outputs": [
    {
     "name": "stdout",
     "output_type": "stream",
     "text": [
      "Average Rating by Movie Genre:\n",
      " Movie_Genre\n",
      "Action        6.439414\n",
      "Comedy        6.340155\n",
      "Dramatic      6.365022\n",
      "Historical    6.535726\n",
      "Musical       6.376087\n",
      "Romance       6.261778\n",
      "Sci-Fi        6.546519\n",
      "Thriller      6.387415\n",
      "Name: Rating, dtype: float64 \n",
      "\n"
     ]
    }
   ],
   "source": [
    "# 1. Group the dataset by Movie_Genre and find the average Rating for each genre\n",
    "genre_avg_rating = df_cleaned.groupby('Movie_Genre')['Rating'].mean()\n",
    "print(\"Average Rating by Movie Genre:\\n\", genre_avg_rating, \"\\n\")\n"
   ]
  },
  {
   "cell_type": "code",
   "execution_count": 83,
   "id": "b90a8a42-9881-4e00-ab1f-12cd3dbedc55",
   "metadata": {},
   "outputs": [
    {
     "name": "stdout",
     "output_type": "stream",
     "text": [
      "Count of Movies per Rating:\n",
      " Rating\n",
      "3.0    51\n",
      "3.1    86\n",
      "3.2    55\n",
      "3.3    70\n",
      "3.4    75\n",
      "       ..\n",
      "9.4    91\n",
      "9.5    80\n",
      "9.6    74\n",
      "9.7    68\n",
      "9.8    35\n",
      "Name: Lead_Actor, Length: 69, dtype: int64 \n",
      "\n"
     ]
    }
   ],
   "source": [
    "# 2. Group by Rating and count the number of movies for each Lead_Actor\n",
    "rating_actor_count = df_cleaned.groupby('Rating')['Lead_Actor'].count()\n",
    "print(\"Count of Movies per Rating:\\n\", rating_actor_count, \"\\n\")"
   ]
  },
  {
   "cell_type": "code",
   "execution_count": 84,
   "id": "4c1929b5-0764-4a9c-bf53-b9e78d13c6a7",
   "metadata": {},
   "outputs": [
    {
     "name": "stdout",
     "output_type": "stream",
     "text": [
      "Total BoxOffice Earnings by Genre:\n",
      " Movie_Genre\n",
      "Action        540005\n",
      "Comedy        598971\n",
      "Dramatic      591920\n",
      "Historical    512293\n",
      "Musical       495875\n",
      "Romance       552846\n",
      "Sci-Fi        549774\n",
      "Thriller      481755\n",
      "Name: BoxOffice, dtype: int64 \n",
      "\n"
     ]
    }
   ],
   "source": [
    "# 3. Group the data by Movie_Genre and calculate the total BoxOffice earnings for each genre\n",
    "genre_total_boxoffice = df_cleaned.groupby('Movie_Genre')['BoxOffice'].sum()\n",
    "print(\"Total BoxOffice Earnings by Genre:\\n\", genre_total_boxoffice, \"\\n\")\n"
   ]
  },
  {
   "cell_type": "code",
   "execution_count": 85,
   "id": "34562164-1972-4ac7-aadc-4b8bd97ef517",
   "metadata": {},
   "outputs": [
    {
     "name": "stdout",
     "output_type": "stream",
     "text": [
      "Total Budget by Rating:\n",
      " Rating\n",
      "3.0    13058\n",
      "3.1    21321\n",
      "3.2    14063\n",
      "3.3    19195\n",
      "3.4    17945\n",
      "       ...  \n",
      "9.4    23576\n",
      "9.5    19046\n",
      "9.6    19208\n",
      "9.7    17152\n",
      "9.8    10734\n",
      "Name: Budget, Length: 69, dtype: int64 \n",
      "\n"
     ]
    }
   ],
   "source": [
    "# 4. Group by Rating and display the sum of Budget for each rating group\n",
    "rating_budget_sum = df_cleaned.groupby('Rating')['Budget'].sum()\n",
    "print(\"Total Budget by Rating:\\n\", rating_budget_sum, \"\\n\")"
   ]
  },
  {
   "cell_type": "code",
   "execution_count": 86,
   "id": "73d1c226-af83-4f5c-81e9-02901c441e76",
   "metadata": {},
   "outputs": [
    {
     "name": "stdout",
     "output_type": "stream",
     "text": [
      "Number of Unique Lead Actors per Genre:\n",
      " Movie_Genre\n",
      "Action        7\n",
      "Comedy        7\n",
      "Dramatic      7\n",
      "Historical    7\n",
      "Musical       7\n",
      "Romance       7\n",
      "Sci-Fi        7\n",
      "Thriller      7\n",
      "Name: Lead_Actor, dtype: int64 \n",
      "\n"
     ]
    }
   ],
   "source": [
    "# 5. Group by Movie_Genre and find the number of unique Lead_Actors in each genre\n",
    "genre_unique_actors = df_cleaned.groupby('Movie_Genre')['Lead_Actor'].nunique()\n",
    "print(\"Number of Unique Lead Actors per Genre:\\n\", genre_unique_actors, \"\\n\")\n"
   ]
  },
  {
   "cell_type": "code",
   "execution_count": 87,
   "id": "d8f9643b-c5dd-487e-bbfb-bbb060ddf957",
   "metadata": {},
   "outputs": [
    {
     "name": "stdout",
     "output_type": "stream",
     "text": [
      "Maximum Rating by Movie Genre:\n",
      " Movie_Genre\n",
      "Action        9.8\n",
      "Comedy        9.8\n",
      "Dramatic      9.8\n",
      "Historical    9.8\n",
      "Musical       9.8\n",
      "Romance       9.8\n",
      "Sci-Fi        9.8\n",
      "Thriller      9.8\n",
      "Name: Rating, dtype: float64 \n",
      "\n"
     ]
    }
   ],
   "source": [
    "# 6. Group the dataset by Movie_Genre and find the maximum value of Rating for each group\n",
    "genre_max_rating = df_cleaned.groupby('Movie_Genre')['Rating'].max()\n",
    "print(\"Maximum Rating by Movie Genre:\\n\", genre_max_rating, \"\\n\")\n"
   ]
  },
  {
   "cell_type": "code",
   "execution_count": 88,
   "id": "33828ad2-8ddc-4475-aa2b-f755e210d3f7",
   "metadata": {},
   "outputs": [
    {
     "name": "stdout",
     "output_type": "stream",
     "text": [
      "Mean and Median Rating by Movie Genre:\n",
      "                  mean  median\n",
      "Movie_Genre                  \n",
      "Action       6.439414    6.35\n",
      "Comedy       6.340155    6.30\n",
      "Dramatic     6.365022    6.40\n",
      "Historical   6.535726    6.70\n",
      "Musical      6.376087    6.50\n",
      "Romance      6.261778    6.10\n",
      "Sci-Fi       6.546519    6.60\n",
      "Thriller     6.387415    6.50 \n",
      "\n"
     ]
    }
   ],
   "source": [
    "# 1. Group by Movie_Genre and calculate both the mean and median of the Rating column\n",
    "genre_rating_stats = df_cleaned.groupby('Movie_Genre')['Rating'].agg(['mean', 'median'])\n",
    "print(\"Mean and Median Rating by Movie Genre:\\n\", genre_rating_stats, \"\\n\")\n"
   ]
  },
  {
   "cell_type": "code",
   "execution_count": 89,
   "id": "33a654e0-761f-43a0-8995-385aff8539bd",
   "metadata": {},
   "outputs": [
    {
     "name": "stdout",
     "output_type": "stream",
     "text": [
      "Sum, Mean, and Count of BoxOffice by Movie Genre:\n",
      "                 sum        mean  count\n",
      "Movie_Genre                           \n",
      "Action       540005  879.486971    614\n",
      "Comedy       598971  928.637209    645\n",
      "Dramatic     591920  884.783259    669\n",
      "Historical   512293  835.714519    613\n",
      "Musical      495875  829.222408    598\n",
      "Romance      552846  862.474259    641\n",
      "Sci-Fi       549774  869.895570    632\n",
      "Thriller     481755  819.311224    588 \n",
      "\n"
     ]
    }
   ],
   "source": [
    "# 2. Perform multiple aggregations: find the sum, mean, and count of BoxOffice grouped by Movie_Genre\n",
    "genre_boxoffice_agg = df_cleaned.groupby('Movie_Genre')['BoxOffice'].agg(['sum', 'mean', 'count'])\n",
    "print(\"Sum, Mean, and Count of BoxOffice by Movie Genre:\\n\", genre_boxoffice_agg, \"\\n\")\n"
   ]
  },
  {
   "cell_type": "code",
   "execution_count": 90,
   "id": "80f515d1-b317-4040-9134-64cfa7670bce",
   "metadata": {},
   "outputs": [
    {
     "name": "stdout",
     "output_type": "stream",
     "text": [
      "Minimum and Maximum Budget by Movie Genre:\n",
      "              min  max\n",
      "Movie_Genre          \n",
      "Action        11  497\n",
      "Comedy        10  499\n",
      "Dramatic      10  498\n",
      "Historical    10  499\n",
      "Musical       10  499\n",
      "Romance       12  499\n",
      "Sci-Fi        10  499\n",
      "Thriller      10  499 \n",
      "\n"
     ]
    }
   ],
   "source": [
    "# 3. Group by Movie_Genre and apply min() and max() functions to the Budget column\n",
    "genre_budget_minmax = df_cleaned.groupby('Movie_Genre')['Budget'].agg(['min', 'max'])\n",
    "print(\"Minimum and Maximum Budget by Movie Genre:\\n\", genre_budget_minmax, \"\\n\")"
   ]
  },
  {
   "cell_type": "code",
   "execution_count": 91,
   "id": "7696bc8d-942b-4137-9a55-f692d354340c",
   "metadata": {},
   "outputs": [
    {
     "name": "stdout",
     "output_type": "stream",
     "text": [
      "Range of Ratings by Movie Genre:\n",
      " Movie_Genre\n",
      "Action        6.8\n",
      "Comedy        6.8\n",
      "Dramatic      6.8\n",
      "Historical    6.8\n",
      "Musical       6.8\n",
      "Romance       6.8\n",
      "Sci-Fi        6.8\n",
      "Thriller      6.8\n",
      "Name: Rating, dtype: float64 \n",
      "\n"
     ]
    }
   ],
   "source": [
    "# 4. Group by Movie_Genre and apply a custom aggregation function to find the range of Ratings\n",
    "def rating_range(x):\n",
    "    return x.max() - x.min()\n",
    "genre_rating_range = df_cleaned.groupby('Movie_Genre')['Rating'].agg(rating_range)\n",
    "print(\"Range of Ratings by Movie Genre:\\n\", genre_rating_range, \"\\n\")\n"
   ]
  },
  {
   "cell_type": "code",
   "execution_count": 92,
   "id": "caa846f9-d1e5-4eeb-89a7-320b853408fa",
   "metadata": {},
   "outputs": [
    {
     "name": "stdout",
     "output_type": "stream",
     "text": [
      "Average Rating and Total Awards Won by Lead Actor:\n",
      "                   Rating  Awards_Won\n",
      "Lead_Actor                          \n",
      "Aamir Khan      6.367406        4994\n",
      "Akshay Kumar    6.416039        4956\n",
      "Hrithik Roshan  6.448481        5229\n",
      "Ranbir Kapoor   6.402692        5241\n",
      "Ranveer Singh   6.366214        4636\n",
      "Salman Khan     6.401545        5051\n",
      "Shah Rukh Khan  6.433194        5036 \n",
      "\n"
     ]
    }
   ],
   "source": [
    "# 5. Group by Lead_Actor and calculate the average Rating along with the total Awards_Won per actor\n",
    "actor_awards_rating = df_cleaned.groupby('Lead_Actor').agg({'Rating': 'mean', 'Awards_Won': 'sum'})\n",
    "print(\"Average Rating and Total Awards Won by Lead Actor:\\n\", actor_awards_rating, \"\\n\")\n"
   ]
  },
  {
   "cell_type": "code",
   "execution_count": 93,
   "id": "945f2a6c-8a3c-49ed-8db5-8ff4953d6fdc",
   "metadata": {},
   "outputs": [
    {
     "name": "stdout",
     "output_type": "stream",
     "text": [
      "Standard Deviation and Variance of BoxOffice by Director:\n",
      "                      std            var\n",
      "Director                               \n",
      "Director_1    712.899775  508226.089744\n",
      "Director_10   668.772609  447256.802372\n",
      "Director_100  705.296278  497442.839869\n",
      "Director_101  581.141491  337725.432749\n",
      "Director_102  496.621584  246632.997835\n",
      "...                  ...            ...\n",
      "Director_95   408.083735  166532.335165\n",
      "Director_96   564.664640  318846.155263\n",
      "Director_97   488.609319  238739.066667\n",
      "Director_98   452.954066  205167.385965\n",
      "Director_99   822.234770  676070.016340\n",
      "\n",
      "[300 rows x 2 columns] \n",
      "\n"
     ]
    }
   ],
   "source": [
    "# 6. Group by Director and find both the standard deviation and variance of the BoxOffice earnings\n",
    "director_boxoffice_stats = df_cleaned.groupby('Director')['BoxOffice'].agg(['std', 'var'])\n",
    "print(\"Standard Deviation and Variance of BoxOffice by Director:\\n\", director_boxoffice_stats, \"\\n\")\n"
   ]
  },
  {
   "cell_type": "code",
   "execution_count": 94,
   "id": "8a9d39dc-9227-4a70-b256-9bb45831cb53",
   "metadata": {},
   "outputs": [],
   "source": [
    "from faker import Faker\n",
    "import pandas as pd\n",
    "import random\n",
    "\n",
    "fake = Faker()"
   ]
  },
  {
   "cell_type": "code",
   "execution_count": 95,
   "id": "a84875e5-dd95-4dec-a1d2-9b8f687753d9",
   "metadata": {},
   "outputs": [
    {
     "name": "stdout",
     "output_type": "stream",
     "text": [
      "Fake dataset with 100 rows:\n",
      "                 Name                                            Address  \\\n",
      "0       Monica Perez  51468 Rodney Highway Apt. 466\\nNorth Michaelmo...   \n",
      "1  Jennifer Cisneros            6791 Howell Views\\nLake David, NY 01806   \n",
      "2        Todd Thomas                   Unit 2304 Box 1503\\nDPO AA 86419   \n",
      "3      David Johnson  18399 Kayla Shores Suite 741\\nEast Vincentbury...   \n",
      "4   Thomas Cline DDS  709 Randolph Villages Apt. 403\\nPort Ericmouth...   \n",
      "\n",
      "  Date_of_Birth  \n",
      "0    2011-07-17  \n",
      "1    1928-01-10  \n",
      "2    1974-04-27  \n",
      "3    1949-10-17  \n",
      "4    1957-06-19   \n",
      "\n"
     ]
    }
   ],
   "source": [
    "# 1. Generate a fake dataset with 100 rows of random names, addresses, and dates\n",
    "df_fake = pd.DataFrame({\n",
    "    'Name': [fake.name() for _ in range(100)],\n",
    "    'Address': [fake.address() for _ in range(100)],\n",
    "    'Date_of_Birth': [fake.date_of_birth().strftime('%Y-%m-%d') for _ in range(100)]\n",
    "})\n",
    "print(\"Fake dataset with 100 rows:\\n\", df_fake.head(), \"\\n\")\n"
   ]
  },
  {
   "cell_type": "code",
   "execution_count": 96,
   "id": "b4bcb6b0-9da7-404a-9594-ff18fb8ef25e",
   "metadata": {},
   "outputs": [
    {
     "name": "stdout",
     "output_type": "stream",
     "text": [
      "List of 20 fake names:\n",
      "                   Name\n",
      "0   Michael Strickland\n",
      "1       Hector Andrade\n",
      "2        Tyler Sanchez\n",
      "3         Steven Short\n",
      "4        Keith Simpson\n",
      "5       Michael Snyder\n",
      "6          Robert Meza\n",
      "7          Eric Kramer\n",
      "8       Shannon Oliver\n",
      "9    Ms. Brenda Curtis\n",
      "10      Thomas Freeman\n",
      "11        David Taylor\n",
      "12         Jamie Perry\n",
      "13      Kevin Martinez\n",
      "14       Anna Peterson\n",
      "15  Katherine Davidson\n",
      "16      Corey Hamilton\n",
      "17         Dana Garcia\n",
      "18       Matthew Noble\n",
      "19       Jackie Miller \n",
      "\n"
     ]
    }
   ],
   "source": [
    "# 2. Create a list of 20 fake names and store them in a Name column\n",
    "fake_names = pd.DataFrame({'Name': [fake.name() for _ in range(20)]})\n",
    "print(\"List of 20 fake names:\\n\", fake_names, \"\\n\")"
   ]
  },
  {
   "cell_type": "code",
   "execution_count": 97,
   "id": "16ffaab3-f4d2-4d57-8c4b-79bbf6c9165a",
   "metadata": {},
   "outputs": [
    {
     "name": "stdout",
     "output_type": "stream",
     "text": [
      "List of 20 fake emails:\n",
      "                            Email\n",
      "0             ssmith@example.com\n",
      "1          leedenise@example.com\n",
      "2            fmiller@example.com\n",
      "3          michael79@example.org\n",
      "4            emily62@example.org\n",
      "5          dstephens@example.org\n",
      "6   williamschristie@example.org\n",
      "7             dana36@example.org\n",
      "8          william52@example.net\n",
      "9          hmcdonald@example.org\n",
      "10            erin51@example.com\n",
      "11       bretthughes@example.net\n",
      "12         allison99@example.net\n",
      "13    danielmcdonald@example.org\n",
      "14      jessicasmith@example.net\n",
      "15    velazquezkevin@example.com\n",
      "16      simmonsdavid@example.org\n",
      "17        andrewreed@example.com\n",
      "18        jhenderson@example.net\n",
      "19           james28@example.net \n",
      "\n"
     ]
    }
   ],
   "source": [
    "# 3. Generate fake email addresses and store them in a column called Email\n",
    "fake_emails = pd.DataFrame({'Email': [fake.email() for _ in range(20)]})\n",
    "print(\"List of 20 fake emails:\\n\", fake_emails, \"\\n\")"
   ]
  },
  {
   "cell_type": "code",
   "execution_count": 98,
   "id": "b741e9c5-0c56-48e7-9ab2-6945c2ff3c47",
   "metadata": {},
   "outputs": [
    {
     "name": "stdout",
     "output_type": "stream",
     "text": [
      "List of 20 fake ages:\n",
      "     Age\n",
      "0    21\n",
      "1    25\n",
      "2    56\n",
      "3    58\n",
      "4    30\n",
      "5    20\n",
      "6    24\n",
      "7    20\n",
      "8    22\n",
      "9    31\n",
      "10   43\n",
      "11   24\n",
      "12   57\n",
      "13   24\n",
      "14   49\n",
      "15   49\n",
      "16   52\n",
      "17   35\n",
      "18   32\n",
      "19   59 \n",
      "\n"
     ]
    }
   ],
   "source": [
    "# 4. Generate fake dates of birth and convert them into an Age column\n",
    "fake_ages = pd.DataFrame({'Age': [random.randint(18, 60) for _ in range(20)]})\n",
    "print(\"List of 20 fake ages:\\n\", fake_ages, \"\\n\")\n"
   ]
  },
  {
   "cell_type": "code",
   "execution_count": 99,
   "id": "1fa79809-61e8-4737-aeee-e4ef507f4557",
   "metadata": {},
   "outputs": [
    {
     "name": "stdout",
     "output_type": "stream",
     "text": [
      "Fake products with prices:\n",
      "    Product_Name       Price\n",
      "0          skin  533.074379\n",
      "1       network  743.435865\n",
      "2         field  474.429386\n",
      "3     condition  479.033684\n",
      "4          side  455.008315\n",
      "5    particular  200.467782\n",
      "6       science  426.446863\n",
      "7          send  860.436154\n",
      "8       certain  477.733080\n",
      "9          pick  928.076185\n",
      "10      project  126.333255\n",
      "11     southern  576.787017\n",
      "12         fine  183.698811\n",
      "13        issue  273.691572\n",
      "14      economy  483.023920\n",
      "15         grow  509.648301\n",
      "16           so  705.853160\n",
      "17     building  129.299363\n",
      "18   democratic  636.654496\n",
      "19       worker  458.749151 \n",
      "\n"
     ]
    }
   ],
   "source": [
    "# 5. Generate fake product names and create a DataFrame with columns for Product_Name and Price\n",
    "fake_products = pd.DataFrame({\n",
    "    'Product_Name': [fake.word() for _ in range(20)],\n",
    "    'Price': [random.uniform(10, 1000) for _ in range(20)]\n",
    "})\n",
    "print(\"Fake products with prices:\\n\", fake_products, \"\\n\")\n"
   ]
  },
  {
   "cell_type": "code",
   "execution_count": 100,
   "id": "d26abee2-0fd4-446d-9462-7b135497e284",
   "metadata": {},
   "outputs": [
    {
     "name": "stdout",
     "output_type": "stream",
     "text": [
      "Fake user information:\n",
      "                  Name                  City            Phone_Number\n",
      "0       Denise Flores           Port Austin            752.621.2018\n",
      "1       David Sanchez          New Erinstad     +1-562-544-8442x888\n",
      "2      Shannon Howard           Vaughanberg            967-242-2482\n",
      "3       John Neal DVM             West John       486.307.2973x3207\n",
      "4          Kara Brown         Williamsshire            664-237-5900\n",
      "5      Michael Gaines            Port James            610.900.3085\n",
      "6      Janet Gonzalez         New Josephton      (522)430-0595x2811\n",
      "7        Carl Leonard          Francisville            788-674-5828\n",
      "8      Amanda Schmidt            Raymondton    001-495-882-0688x256\n",
      "9       Douglas Lewis           Lake Amanda           (530)626-2206\n",
      "10    Christine Wiley       West Andrewfurt  001-501-757-9668x04817\n",
      "11   Courtney Ramirez  Port Jonathonborough   001-606-899-7671x7535\n",
      "12      Paige Ballard            Scotthaven     (420)315-8799x49254\n",
      "13         Chase Neal        Lake Alexander    001-352-689-6361x731\n",
      "14     Robert Schmidt            Carterbury           (568)403-2753\n",
      "15          Noah Levy             Craigfort        967-377-5743x216\n",
      "16      Michelle Lane            Hannahtown       714-860-7899x3712\n",
      "17  Elizabeth Alvarez         Alexandertown    001-877-455-6351x517\n",
      "18       Amy Williams            Carlamouth      480-826-4174x16586\n",
      "19      Jennifer King      East Samuelhaven    +1-340-990-0401x8486 \n",
      "\n"
     ]
    }
   ],
   "source": [
    "# 6. Use the Faker library to create a DataFrame with fake user information, including Name, City, and Phone Number\n",
    "fake_users = pd.DataFrame({\n",
    "    'Name': [fake.name() for _ in range(20)],\n",
    "    'City': [fake.city() for _ in range(20)],\n",
    "    'Phone_Number': [fake.phone_number() for _ in range(20)]\n",
    "})\n",
    "print(\"Fake user information:\\n\", fake_users, \"\\n\")\n"
   ]
  },
  {
   "cell_type": "code",
   "execution_count": 101,
   "id": "83971d48-2b3d-40d1-b451-21ae76ca7331",
   "metadata": {},
   "outputs": [],
   "source": [
    "import pandas as pd"
   ]
  },
  {
   "cell_type": "code",
   "execution_count": 103,
   "id": "1156432b-c4e9-4cd7-aac2-0cdf4e81ffe2",
   "metadata": {},
   "outputs": [],
   "source": [
    "# Sample DataFrames\n",
    "df1 = pd.DataFrame({\n",
    "    'Product_ID': [1, 2, 3, 4, 5],\n",
    "    'Product_Name': ['Laptop', 'Phone', 'Tablet', 'Monitor', 'Keyboard'],\n",
    "    'Price': [1000, 500, 300, 200, 50]\n",
    "})\n",
    "df2 = pd.DataFrame({\n",
    "    'Product_ID': [3, 4, 5, 6, 7],\n",
    "    'Stock': [10, 15, 20, 25, 30]\n",
    "})\n"
   ]
  },
  {
   "cell_type": "code",
   "execution_count": 104,
   "id": "91ff07bc-cd6c-42ca-8ce6-44f55d8cff2b",
   "metadata": {},
   "outputs": [
    {
     "name": "stdout",
     "output_type": "stream",
     "text": [
      "Merged DataFrame on Product_ID:\n",
      "    Product_ID Product_Name  Price  Stock\n",
      "0           3       Tablet    300     10\n",
      "1           4      Monitor    200     15\n",
      "2           5     Keyboard     50     20 \n",
      "\n"
     ]
    }
   ],
   "source": [
    "# 1. Merge two DataFrames on a common column Product_ID\n",
    "merged_df = pd.merge(df1, df2, on='Product_ID')\n",
    "print(\"Merged DataFrame on Product_ID:\\n\", merged_df, \"\\n\")\n"
   ]
  },
  {
   "cell_type": "code",
   "execution_count": 105,
   "id": "ab500738-a64d-4c96-8fab-9adc524fc288",
   "metadata": {},
   "outputs": [
    {
     "name": "stdout",
     "output_type": "stream",
     "text": [
      "Merged DataFrame on Product_ID:\n",
      "    Product_ID Product_Name  Price  Stock\n",
      "0           3       Tablet    300     10\n",
      "1           4      Monitor    200     15\n",
      "2           5     Keyboard     50     20 \n",
      "\n"
     ]
    }
   ],
   "source": [
    "df2 = pd.DataFrame({\n",
    "    'Product_ID': [3, 4, 5, 6, 7],\n",
    "    'Stock': [10, 15, 20, 25, 30]\n",
    "})\n",
    "\n",
    "# 1. Merge two DataFrames on a common column Product_ID\n",
    "merged_df = pd.merge(df1, df2, on='Product_ID')\n",
    "print(\"Merged DataFrame on Product_ID:\\n\", merged_df, \"\\n\")\n"
   ]
  },
  {
   "cell_type": "code",
   "execution_count": 106,
   "id": "5e45437d-d03e-4a86-8596-5426bc3d7cbe",
   "metadata": {},
   "outputs": [
    {
     "name": "stdout",
     "output_type": "stream",
     "text": [
      "Left Join on Employee_ID:\n",
      "    Employee_ID Employee_Name   Salary\n",
      "0          101         Alice      NaN\n",
      "1          102           Bob      NaN\n",
      "2          103       Charlie  50000.0\n",
      "3          104         David  60000.0 \n",
      "\n"
     ]
    }
   ],
   "source": [
    "# 2. Perform a left join between two DataFrames based on Employee_ID\n",
    "df3 = pd.DataFrame({\n",
    "    'Employee_ID': [101, 102, 103, 104],\n",
    "    'Employee_Name': ['Alice', 'Bob', 'Charlie', 'David']\n",
    "})\n",
    "\n",
    "df4 = pd.DataFrame({\n",
    "    'Employee_ID': [103, 104, 105],\n",
    "    'Salary': [50000, 60000, 70000]\n",
    "})\n",
    "\n",
    "left_join_df = pd.merge(df3, df4, on='Employee_ID', how='left')\n",
    "print(\"Left Join on Employee_ID:\\n\", left_join_df, \"\\n\")\n"
   ]
  },
  {
   "cell_type": "code",
   "execution_count": 107,
   "id": "e757c057-89b9-4758-b073-b91998bfaae5",
   "metadata": {},
   "outputs": [
    {
     "name": "stdout",
     "output_type": "stream",
     "text": [
      "Left Merge on Product_ID:\n",
      "    Product_ID Product_Name  Price  Stock\n",
      "0           1       Laptop   1000    NaN\n",
      "1           2        Phone    500    NaN\n",
      "2           3       Tablet    300   10.0\n",
      "3           4      Monitor    200   15.0\n",
      "4           5     Keyboard     50   20.0 \n",
      "\n"
     ]
    }
   ],
   "source": [
    "# 3. Merge two DataFrames, keeping all rows from the left DataFrame and matching rows from the right\n",
    "left_merge_df = pd.merge(df1, df2, on='Product_ID', how='left')\n",
    "print(\"Left Merge on Product_ID:\\n\", left_merge_df, \"\\n\")"
   ]
  },
  {
   "cell_type": "code",
   "execution_count": 108,
   "id": "c9c66d8b-e78c-4896-b46c-68d0276abf21",
   "metadata": {},
   "outputs": [
    {
     "name": "stdout",
     "output_type": "stream",
     "text": [
      "Merge on multiple columns (City, Age):\n",
      "   City  Age  Population  Income\n",
      "0   NY   25     1000000   70000\n",
      "1   LA   30      500000   80000 \n",
      "\n"
     ]
    }
   ],
   "source": [
    "# 4. Merge two DataFrames on multiple columns (e.g., City and Age)\n",
    "df5 = pd.DataFrame({\n",
    "    'City': ['NY', 'LA', 'SF'],\n",
    "    'Age': [25, 30, 35],\n",
    "    'Population': [1000000, 500000, 300000]\n",
    "})\n",
    "\n",
    "df6 = pd.DataFrame({\n",
    "    'City': ['NY', 'LA', 'SF'],\n",
    "    'Age': [25, 30, 40],\n",
    "    'Income': [70000, 80000, 90000]\n",
    "})\n",
    "\n",
    "multi_merge_df = pd.merge(df5, df6, on=['City', 'Age'], how='inner')\n",
    "print(\"Merge on multiple columns (City, Age):\\n\", multi_merge_df, \"\\n\")\n"
   ]
  },
  {
   "cell_type": "code",
   "execution_count": 109,
   "id": "5c0f7e6d-766e-428c-82f5-3091fe8902c5",
   "metadata": {},
   "outputs": [
    {
     "name": "stdout",
     "output_type": "stream",
     "text": [
      "Inner Join on Country:\n",
      "   Country    GDP  Population\n",
      "0     USA  21000         331\n",
      "1  Canada   1800          38 \n",
      "\n"
     ]
    }
   ],
   "source": [
    "# 5. Perform an inner join on two DataFrames with a common column Country\n",
    "df7 = pd.DataFrame({\n",
    "    'Country': ['USA', 'Canada', 'Mexico'],\n",
    "    'GDP': [21000, 1800, 1200]\n",
    "})\n",
    "\n",
    "df8 = pd.DataFrame({\n",
    "    'Country': ['USA', 'Canada', 'Germany'],\n",
    "    'Population': [331, 38, 83]\n",
    "})\n",
    "\n",
    "inner_join_df = pd.merge(df7, df8, on='Country', how='inner')\n",
    "print(\"Inner Join on Country:\\n\", inner_join_df, \"\\n\")"
   ]
  },
  {
   "cell_type": "code",
   "execution_count": 110,
   "id": "f261284e-f2a5-41b9-9a10-f391946c6eb3",
   "metadata": {},
   "outputs": [
    {
     "name": "stdout",
     "output_type": "stream",
     "text": [
      "Outer Merge on Country:\n",
      "    Country      GDP  Population\n",
      "0   Canada   1800.0        38.0\n",
      "1  Germany      NaN        83.0\n",
      "2   Mexico   1200.0         NaN\n",
      "3      USA  21000.0       331.0 \n",
      "\n"
     ]
    }
   ],
   "source": [
    "# 6. Merge two DataFrames and keep all rows, even if there’s no match in the second DataFrame\n",
    "outer_merge_df = pd.merge(df7, df8, on='Country', how='outer')\n",
    "print(\"Outer Merge on Country:\\n\", outer_merge_df, \"\\n\")\n"
   ]
  },
  {
   "cell_type": "code",
   "execution_count": 111,
   "id": "5a8bb9b7-e907-4a35-855e-303b774535c9",
   "metadata": {},
   "outputs": [
    {
     "name": "stdout",
     "output_type": "stream",
     "text": [
      "Merged DataFrame saved as 'merged_data.csv'\n",
      "\n"
     ]
    }
   ],
   "source": [
    "# 7. Save the DataFrame to a new CSV file\n",
    "merged_df.to_csv(\"merged_data.csv\", index=False)\n",
    "print(\"Merged DataFrame saved as 'merged_data.csv'\\n\")\n"
   ]
  },
  {
   "cell_type": "code",
   "execution_count": 112,
   "id": "ff457962-0ac3-442f-9725-526739f6ce23",
   "metadata": {},
   "outputs": [
    {
     "name": "stdout",
     "output_type": "stream",
     "text": [
      "Merged DataFrame exported as 'merged_data.xlsx'\n",
      "\n"
     ]
    }
   ],
   "source": [
    "# 8. Export the DataFrame to an Excel file\n",
    "merged_df.to_excel(\"merged_data.xlsx\", index=False)\n",
    "print(\"Merged DataFrame exported as 'merged_data.xlsx'\\n\")\n"
   ]
  },
  {
   "cell_type": "code",
   "execution_count": null,
   "id": "8214c544-fc34-4a08-9095-72c4f00a7f80",
   "metadata": {},
   "outputs": [],
   "source": [
    "1. Complex Filtering and Aggregation: \n",
    "● Filter the dataset for all rows where the Age is between 20 and 40 and the City is \"Los \n",
    "Angeles.\" \n",
    "● Then, group the filtered data by Gender and calculate both the mean and median of the \n",
    "Age column. \n",
    "● After that, sort the result in descending order by the Age column."
   ]
  },
  {
   "cell_type": "code",
   "execution_count": 114,
   "id": "5e7299cb-7aff-4e42-bde4-80efbe73456d",
   "metadata": {},
   "outputs": [],
   "source": [
    "# Sample dataset\n",
    "data = {\n",
    "    'Name': ['Alice', 'Bob', 'Charlie', 'David', 'Eve', 'Frank'],\n",
    "    'Age': [22, 35, 40, 28, 33, 45],\n",
    "    'City': ['Los Angeles', 'New York', 'Los Angeles', 'Los Angeles', 'Chicago', 'Los Angeles'],\n",
    "    'Gender': ['Female', 'Male', 'Male', 'Female', 'Male', 'Female']\n",
    "}"
   ]
  },
  {
   "cell_type": "code",
   "execution_count": 115,
   "id": "cc92591a-2599-448f-8c41-14db80511e4f",
   "metadata": {},
   "outputs": [],
   "source": [
    "df = pd.DataFrame(data)"
   ]
  },
  {
   "cell_type": "code",
   "execution_count": 116,
   "id": "2f402e2c-31ed-4749-a86d-9686984f1d15",
   "metadata": {},
   "outputs": [
    {
     "name": "stdout",
     "output_type": "stream",
     "text": [
      "Filtered dataset where Age is between 20 and 40 and City is Los Angeles:\n",
      "       Name  Age         City  Gender\n",
      "0    Alice   22  Los Angeles  Female\n",
      "2  Charlie   40  Los Angeles    Male\n",
      "3    David   28  Los Angeles  Female \n",
      "\n"
     ]
    }
   ],
   "source": [
    "# 1. Filter the dataset for all rows where the Age is between 20 and 40 and the City is \"Los Angeles\"\n",
    "filtered_df = df[(df['Age'] >= 20) & (df['Age'] <= 40) & (df['City'] == \"Los Angeles\")]\n",
    "print(\"Filtered dataset where Age is between 20 and 40 and City is Los Angeles:\\n\", filtered_df, \"\\n\")"
   ]
  },
  {
   "cell_type": "code",
   "execution_count": 117,
   "id": "46831110-102c-4f57-9c86-d29327475323",
   "metadata": {},
   "outputs": [
    {
     "name": "stdout",
     "output_type": "stream",
     "text": [
      "Mean and Median Age by Gender:\n",
      "         mean  median\n",
      "Gender              \n",
      "Female  25.0    25.0\n",
      "Male    40.0    40.0 \n",
      "\n"
     ]
    }
   ],
   "source": [
    "# 2. Group the filtered data by Gender and calculate both the mean and median of the Age column\n",
    "gender_age_stats = filtered_df.groupby('Gender')['Age'].agg(['mean', 'median'])\n",
    "print(\"Mean and Median Age by Gender:\\n\", gender_age_stats, \"\\n\")"
   ]
  },
  {
   "cell_type": "code",
   "execution_count": 118,
   "id": "86447f86-e4c0-4659-9c95-ea70408b32da",
   "metadata": {},
   "outputs": [
    {
     "name": "stdout",
     "output_type": "stream",
     "text": [
      "Sorted Mean and Median Age by Gender (Descending Order):\n",
      "         mean  median\n",
      "Gender              \n",
      "Male    40.0    40.0\n",
      "Female  25.0    25.0 \n",
      "\n"
     ]
    }
   ],
   "source": [
    "# 3. Sort the result in descending order by the Age column\n",
    "sorted_gender_age_stats = gender_age_stats.sort_values(by='mean', ascending=False)\n",
    "print(\"Sorted Mean and Median Age by Gender (Descending Order):\\n\", sorted_gender_age_stats, \"\\n\")\n"
   ]
  },
  {
   "cell_type": "code",
   "execution_count": null,
   "id": "29920643-118d-4553-9cfd-a04cb3242ec7",
   "metadata": {},
   "outputs": [],
   "source": [
    "2. Advanced String Manipulation and Grouping: \n",
    "● Create a new column Full_Name by concatenating the First_Name and Last_Name \n",
    "columns with a space in between. \n",
    "● Then, split the Full_Name column into two separate columns: First_Name and \n",
    "Last_Name. \n",
    "● Finally, group the dataset by City and calculate the count of unique Full_Name entries for \n",
    "each city. \n"
   ]
  },
  {
   "cell_type": "code",
   "execution_count": 119,
   "id": "260cc550-c78d-49f8-b5e3-93584d971842",
   "metadata": {},
   "outputs": [],
   "source": [
    "# Sample dataset\n",
    "data = {\n",
    "    'First_Name': ['Alice', 'Bob', 'Charlie', 'David', 'Eve', 'Frank'],\n",
    "    'Last_Name': ['Smith', 'Johnson', 'Brown', 'Williams', 'Jones', 'Davis'],\n",
    "    'City': ['Los Angeles', 'New York', 'Los Angeles', 'Los Angeles', 'Chicago', 'Los Angeles']\n",
    "}\n",
    "\n",
    "df = pd.DataFrame(data)"
   ]
  },
  {
   "cell_type": "code",
   "execution_count": 120,
   "id": "1dd0cd22-5839-4ada-92bd-cde1ea395fcd",
   "metadata": {},
   "outputs": [
    {
     "name": "stdout",
     "output_type": "stream",
     "text": [
      "DataFrame with Full_Name column:\n",
      "   First_Name Last_Name         City       Full_Name\n",
      "0      Alice     Smith  Los Angeles     Alice Smith\n",
      "1        Bob   Johnson     New York     Bob Johnson\n",
      "2    Charlie     Brown  Los Angeles   Charlie Brown\n",
      "3      David  Williams  Los Angeles  David Williams\n",
      "4        Eve     Jones      Chicago       Eve Jones\n",
      "5      Frank     Davis  Los Angeles     Frank Davis \n",
      "\n"
     ]
    }
   ],
   "source": [
    "# 1. Create a new column Full_Name by concatenating First_Name and Last_Name with a space in between\n",
    "df['Full_Name'] = df['First_Name'] + ' ' + df['Last_Name']\n",
    "print(\"DataFrame with Full_Name column:\\n\", df, \"\\n\")"
   ]
  },
  {
   "cell_type": "code",
   "execution_count": 121,
   "id": "5cad2a45-c10f-439b-888c-a8be5d03d23a",
   "metadata": {},
   "outputs": [
    {
     "name": "stdout",
     "output_type": "stream",
     "text": [
      "DataFrame after splitting Full_Name back into First_Name and Last_Name:\n",
      "   First_Name Last_Name         City       Full_Name\n",
      "0      Alice     Smith  Los Angeles     Alice Smith\n",
      "1        Bob   Johnson     New York     Bob Johnson\n",
      "2    Charlie     Brown  Los Angeles   Charlie Brown\n",
      "3      David  Williams  Los Angeles  David Williams\n",
      "4        Eve     Jones      Chicago       Eve Jones\n",
      "5      Frank     Davis  Los Angeles     Frank Davis \n",
      "\n"
     ]
    }
   ],
   "source": [
    "# 2. Split the Full_Name column into two separate columns: First_Name and Last_Name\n",
    "df[['First_Name', 'Last_Name']] = df['Full_Name'].str.split(' ', n=1, expand=True)\n",
    "print(\"DataFrame after splitting Full_Name back into First_Name and Last_Name:\\n\", df, \"\\n\")"
   ]
  },
  {
   "cell_type": "code",
   "execution_count": 122,
   "id": "3e6b021b-b603-43f7-a603-11317586baeb",
   "metadata": {},
   "outputs": [
    {
     "name": "stdout",
     "output_type": "stream",
     "text": [
      "Count of unique Full_Name entries per City:\n",
      " City\n",
      "Chicago        1\n",
      "Los Angeles    4\n",
      "New York       1\n",
      "Name: Full_Name, dtype: int64 \n",
      "\n"
     ]
    }
   ],
   "source": [
    "# 3. Group the dataset by City and calculate the count of unique Full_Name entries for each city\n",
    "unique_names_by_city = df.groupby('City')['Full_Name'].nunique()\n",
    "print(\"Count of unique Full_Name entries per City:\\n\", unique_names_by_city, \"\\n\")"
   ]
  },
  {
   "cell_type": "code",
   "execution_count": 123,
   "id": "c3024cfb-6ed1-4fda-8f82-500b0ae0de69",
   "metadata": {},
   "outputs": [],
   "source": [
    "import pandas as pd\n",
    "import numpy as np"
   ]
  },
  {
   "cell_type": "code",
   "execution_count": 124,
   "id": "daf394e6-26ce-4c29-acc2-f1ab55cd05f7",
   "metadata": {},
   "outputs": [],
   "source": [
    "# Sample dataset\n",
    "data = {\n",
    "    'Product_ID': [1, 2, 3, 4, 5],\n",
    "    'Product_Name': ['Laptop', 'Phone', 'Tablet', 'Monitor', 'Keyboard'],\n",
    "    'Price': [1000, 500, 300, 200, 50],\n",
    "    'Age': [25, -30, 40, -18, 35]\n",
    "}"
   ]
  },
  {
   "cell_type": "code",
   "execution_count": 125,
   "id": "03a46dd8-477b-4fef-8df6-7f4ce71f766e",
   "metadata": {},
   "outputs": [],
   "source": [
    "df = pd.DataFrame(data)\n"
   ]
  },
  {
   "cell_type": "code",
   "execution_count": 126,
   "id": "1c9a2894-bee4-4709-b907-3eac9873a718",
   "metadata": {},
   "outputs": [
    {
     "name": "stdout",
     "output_type": "stream",
     "text": [
      "DataFrame after normalizing Price column:\n",
      "    Product_ID Product_Name  Price  Age  Price_Norm\n",
      "0           1       Laptop   1000   25    1.000000\n",
      "1           2        Phone    500  -30    0.473684\n",
      "2           3       Tablet    300   40    0.263158\n",
      "3           4      Monitor    200  -18    0.157895\n",
      "4           5     Keyboard     50   35    0.000000 \n",
      "\n"
     ]
    }
   ],
   "source": [
    "# 1. Normalize the Price column to scale the values between 0 and 1\n",
    "df['Price_Norm'] = (df['Price'] - df['Price'].min()) / (df['Price'].max() - df['Price'].min())\n",
    "print(\"DataFrame after normalizing Price column:\\n\", df, \"\\n\")"
   ]
  },
  {
   "cell_type": "code",
   "execution_count": 127,
   "id": "2ca28cff-4d2d-47f8-83cd-6bc1471aef1d",
   "metadata": {},
   "outputs": [
    {
     "name": "stdout",
     "output_type": "stream",
     "text": [
      "DataFrame after replacing negative Age values with median:\n",
      "    Product_ID Product_Name  Price   Age  Price_Norm\n",
      "0           1       Laptop   1000  25.0    1.000000\n",
      "1           2        Phone    500  35.0    0.473684\n",
      "2           3       Tablet    300  40.0    0.263158\n",
      "3           4      Monitor    200  35.0    0.157895\n",
      "4           5     Keyboard     50  35.0    0.000000 \n",
      "\n"
     ]
    }
   ],
   "source": [
    "# 2. Replace any negative values in the Age column with the median of the column\n",
    "median_age = df['Age'][df['Age'] > 0].median()\n",
    "df['Age'] = df['Age'].apply(lambda x: median_age if x < 0 else x)\n",
    "print(\"DataFrame after replacing negative Age values with median:\\n\", df, \"\\n\")\n"
   ]
  },
  {
   "cell_type": "code",
   "execution_count": 128,
   "id": "ea64e358-a44c-4e6c-aba2-e0be0cd0d3a9",
   "metadata": {},
   "outputs": [
    {
     "name": "stdout",
     "output_type": "stream",
     "text": [
      "Merged DataFrame (first 5 rows):\n",
      "    Product_ID Product_Name  Price   Age  Price_Norm  Stock\n",
      "0           1       Laptop   1000  25.0    1.000000     10\n",
      "1           2        Phone    500  35.0    0.473684     20\n",
      "2           3       Tablet    300  40.0    0.263158     15\n",
      "3           4      Monitor    200  35.0    0.157895      8\n",
      "4           5     Keyboard     50  35.0    0.000000     12 \n",
      "\n"
     ]
    }
   ],
   "source": [
    "# 3. Merge the cleaned dataset with another DataFrame (product_data) based on the Product_ID column\n",
    "product_data = pd.DataFrame({\n",
    "    'Product_ID': [1, 2, 3, 4, 5],\n",
    "    'Stock': [10, 20, 15, 8, 12]\n",
    "})\n",
    "\n",
    "merged_df = pd.merge(df, product_data, on='Product_ID')\n",
    "print(\"Merged DataFrame (first 5 rows):\\n\", merged_df.head(), \"\\n\")\n"
   ]
  },
  {
   "cell_type": "code",
   "execution_count": null,
   "id": "6ec653d6-f79e-448d-9935-83778cbb639e",
   "metadata": {},
   "outputs": [],
   "source": [
    "1. Create a DataFrame with 'Product ID', 'Product Name', 'Quantity', and 'Price'. Add 10 \n",
    "rows of data for different products. Perform an operation to calculate the 'Total Value' \n",
    "(Quantity * Price) and add it as a new column. Export the modified DataFrame to an \n",
    "Excel file and compare the original and modified versions. What changes can you \n",
    "observe in the data?"
   ]
  },
  {
   "cell_type": "code",
   "execution_count": 129,
   "id": "b8e5b8de-7b7a-48c3-8971-c2675553a3eb",
   "metadata": {},
   "outputs": [],
   "source": [
    "# Create a DataFrame with 'Product ID', 'Product Name', 'Quantity', and 'Price'\n",
    "data = {\n",
    "    'Product_ID': [1, 2, 3, 4, 5, 6, 7, 8, 9, 10],\n",
    "    'Product_Name': ['Laptop', 'Phone', 'Tablet', 'Monitor', 'Keyboard', 'Mouse', 'Printer', 'Speakers', 'Webcam', 'Charger'],\n",
    "    'Quantity': [5, 10, 8, 4, 15, 12, 3, 6, 7, 9],\n",
    "    'Price': [1000, 500, 300, 200, 50, 25, 150, 75, 100, 40]\n",
    "}\n"
   ]
  },
  {
   "cell_type": "code",
   "execution_count": 130,
   "id": "9389b3bc-6277-4372-a22b-d33d2e34f4f3",
   "metadata": {},
   "outputs": [],
   "source": [
    "df_original = pd.DataFrame(data)"
   ]
  },
  {
   "cell_type": "code",
   "execution_count": 131,
   "id": "47952921-379b-4f4b-9584-1d3227ddc154",
   "metadata": {},
   "outputs": [],
   "source": [
    "# Create a modified version by calculating 'Total Value' (Quantity * Price)\n",
    "df_modified = df_original.copy()\n",
    "df_modified['Total_Value'] = df_modified['Quantity'] * df_modified['Price']"
   ]
  },
  {
   "cell_type": "code",
   "execution_count": 132,
   "id": "35a7efc9-329a-4c3d-884e-8c23c0dce2da",
   "metadata": {},
   "outputs": [],
   "source": [
    "original_file_path = \"original_products.xlsx\"\n",
    "modified_file_path = \"modified_products.xlsx\"\n",
    "df_original.to_excel(original_file_path, index=False)\n",
    "df_modified.to_excel(modified_file_path, index=False)\n"
   ]
  },
  {
   "cell_type": "code",
   "execution_count": 133,
   "id": "2d26048b-5f60-4014-b079-ae2b89fdb1a0",
   "metadata": {},
   "outputs": [
    {
     "name": "stdout",
     "output_type": "stream",
     "text": [
      "Original DataFrame:\n",
      "    Product_ID Product_Name  Quantity  Price\n",
      "0           1       Laptop         5   1000\n",
      "1           2        Phone        10    500\n",
      "2           3       Tablet         8    300\n",
      "3           4      Monitor         4    200\n",
      "4           5     Keyboard        15     50\n",
      "5           6        Mouse        12     25\n",
      "6           7      Printer         3    150\n",
      "7           8     Speakers         6     75\n",
      "8           9       Webcam         7    100\n",
      "9          10      Charger         9     40 \n",
      "\n",
      "Modified DataFrame with 'Total Value':\n",
      "    Product_ID Product_Name  Quantity  Price  Total_Value\n",
      "0           1       Laptop         5   1000         5000\n",
      "1           2        Phone        10    500         5000\n",
      "2           3       Tablet         8    300         2400\n",
      "3           4      Monitor         4    200          800\n",
      "4           5     Keyboard        15     50          750\n",
      "5           6        Mouse        12     25          300\n",
      "6           7      Printer         3    150          450\n",
      "7           8     Speakers         6     75          450\n",
      "8           9       Webcam         7    100          700\n",
      "9          10      Charger         9     40          360 \n",
      "\n",
      "Original data exported to original_products.xlsx\n",
      "Modified data exported to modified_products.xlsx\n"
     ]
    }
   ],
   "source": [
    "# Compare the original and modified versions\n",
    "print(\"Original DataFrame:\\n\", df_original, \"\\n\")\n",
    "print(\"Modified DataFrame with 'Total Value':\\n\", df_modified, \"\\n\")\n",
    "print(f\"Original data exported to {original_file_path}\")\n",
    "print(f\"Modified data exported to {modified_file_path}\")\n"
   ]
  },
  {
   "cell_type": "code",
   "execution_count": 134,
   "id": "7f8b0945-2618-4633-9a03-5d883383e392",
   "metadata": {},
   "outputs": [],
   "source": [
    "# Create a DataFrame with 'Student ID', 'Name', 'Grade', and 'Score'\n",
    "data = {\n",
    "    'Student_ID': [101, 102, 103, 104, 105, 106, 107, 108, 109, 110],\n",
    "    'Name': ['Alice', 'Bob', 'Charlie', 'David', 'Emma', 'Frank', 'Grace', 'Henry', 'Ivy', 'Jack'],\n",
    "    'Grade': ['A', 'B', 'C', 'A', 'B', 'C', 'A', 'B', 'C', 'A'],\n",
    "    'Score': [85, 42, 73, 90, 48, 55, 67, 30, 95, 60]\n",
    "}\n",
    "\n",
    "df_original = pd.DataFrame(data)\n"
   ]
  },
  {
   "cell_type": "code",
   "execution_count": 135,
   "id": "e35ce81b-1dad-4391-954c-b0306ddbdcac",
   "metadata": {},
   "outputs": [],
   "source": [
    "# Create a modified version by assigning 'Pass/Fail' status\n",
    "df_modified = df_original.copy()\n",
    "df_modified['Pass/Fail'] = df_modified['Score'].apply(lambda x: 'Pass' if x > 50 else 'Fail')\n"
   ]
  },
  {
   "cell_type": "code",
   "execution_count": 136,
   "id": "e63e5326-b3a3-4a01-b4d2-85b4fc92f996",
   "metadata": {},
   "outputs": [],
   "source": [
    "# Export the original and modified DataFrames to Excel\n",
    "original_file_path = \"original_students.xlsx\"\n",
    "modified_file_path = \"modified_students.xlsx\"\n",
    "df_original.to_excel(original_file_path, index=False)\n",
    "df_modified.to_excel(modified_file_path, index=False)"
   ]
  },
  {
   "cell_type": "code",
   "execution_count": 137,
   "id": "f2d5ce90-a4b0-4bd2-a773-ca05c13f09bf",
   "metadata": {},
   "outputs": [
    {
     "name": "stdout",
     "output_type": "stream",
     "text": [
      "Original DataFrame:\n",
      "    Student_ID     Name Grade  Score\n",
      "0         101    Alice     A     85\n",
      "1         102      Bob     B     42\n",
      "2         103  Charlie     C     73\n",
      "3         104    David     A     90\n",
      "4         105     Emma     B     48\n",
      "5         106    Frank     C     55\n",
      "6         107    Grace     A     67\n",
      "7         108    Henry     B     30\n",
      "8         109      Ivy     C     95\n",
      "9         110     Jack     A     60 \n",
      "\n",
      "Modified DataFrame with 'Pass/Fail' Status:\n",
      "    Student_ID     Name Grade  Score Pass/Fail\n",
      "0         101    Alice     A     85      Pass\n",
      "1         102      Bob     B     42      Fail\n",
      "2         103  Charlie     C     73      Pass\n",
      "3         104    David     A     90      Pass\n",
      "4         105     Emma     B     48      Fail\n",
      "5         106    Frank     C     55      Pass\n",
      "6         107    Grace     A     67      Pass\n",
      "7         108    Henry     B     30      Fail\n",
      "8         109      Ivy     C     95      Pass\n",
      "9         110     Jack     A     60      Pass \n",
      "\n",
      "Original data exported to original_students.xlsx\n",
      "Modified data exported to modified_students.xlsx\n"
     ]
    }
   ],
   "source": [
    "# Compare the original and modified versions\n",
    "print(\"Original DataFrame:\\n\", df_original, \"\\n\")\n",
    "print(\"Modified DataFrame with 'Pass/Fail' Status:\\n\", df_modified, \"\\n\")\n",
    "print(f\"Original data exported to {original_file_path}\")\n",
    "print(f\"Modified data exported to {modified_file_path}\")\n"
   ]
  },
  {
   "cell_type": "code",
   "execution_count": 138,
   "id": "fde64c97-ff71-4546-bdee-69342f197f4f",
   "metadata": {},
   "outputs": [],
   "source": [
    "# Create a CSV file and an Excel file with 'Student ID', 'Name', 'Grade', and 'Score'\n",
    "data = {\n",
    "    'Student_ID': [201, 202, 203, 204, 205],\n",
    "    'Name': ['John', 'Sarah', 'Mike', 'Anna', 'Tom'],\n",
    "    'Grade': ['A', 'B', 'C', 'A', 'B'],\n",
    "    'Score': [88, 45, 72, 94, 50]\n",
    "}\n",
    "\n",
    "df_original = pd.DataFrame(data)\n"
   ]
  },
  {
   "cell_type": "code",
   "execution_count": 139,
   "id": "4ed819b8-a9a9-40f8-aeab-ccd514f92197",
   "metadata": {},
   "outputs": [],
   "source": [
    "# Save the original data to CSV and Excel\n",
    "csv_file_path = \"students_original.csv\"\n",
    "excel_file_path = \"students_original.xlsx\"\n",
    "df_original.to_csv(csv_file_path, index=False)\n",
    "df_original.to_excel(excel_file_path, index=False)\n"
   ]
  },
  {
   "cell_type": "code",
   "execution_count": 140,
   "id": "0a12237a-b67b-4c71-a992-6a57b1949b53",
   "metadata": {},
   "outputs": [],
   "source": [
    "# Create a modified version by assigning 'Pass/Fail' status\n",
    "df_modified = df_original.copy()\n",
    "df_modified['Pass/Fail'] = df_modified['Score'].apply(lambda x: 'Pass' if x > 50 else 'Fail')"
   ]
  },
  {
   "cell_type": "code",
   "execution_count": 141,
   "id": "e14ecc23-6cd4-46c0-b474-7bf4cece6053",
   "metadata": {},
   "outputs": [],
   "source": [
    "# Save the modified data to CSV and Excel\n",
    "modified_csv_file_path = \"students_modified.csv\"\n",
    "modified_excel_file_path = \"students_modified.xlsx\"\n",
    "df_modified.to_csv(modified_csv_file_path, index=False)\n",
    "df_modified.to_excel(modified_excel_file_path, index=False)"
   ]
  },
  {
   "cell_type": "code",
   "execution_count": 142,
   "id": "9e11e66e-ad18-452d-8d38-4fddcd6eb813",
   "metadata": {},
   "outputs": [
    {
     "name": "stdout",
     "output_type": "stream",
     "text": [
      "Original DataFrame:\n",
      "    Student_ID   Name Grade  Score\n",
      "0         201   John     A     88\n",
      "1         202  Sarah     B     45\n",
      "2         203   Mike     C     72\n",
      "3         204   Anna     A     94\n",
      "4         205    Tom     B     50 \n",
      "\n",
      "Modified DataFrame with 'Pass/Fail' Status:\n",
      "    Student_ID   Name Grade  Score Pass/Fail\n",
      "0         201   John     A     88      Pass\n",
      "1         202  Sarah     B     45      Fail\n",
      "2         203   Mike     C     72      Pass\n",
      "3         204   Anna     A     94      Pass\n",
      "4         205    Tom     B     50      Fail \n",
      "\n",
      "Original data exported to students_original.csv and students_original.xlsx\n",
      "Modified data exported to students_modified.csv and students_modified.xlsx\n"
     ]
    }
   ],
   "source": [
    "# Compare the original and modified versions\n",
    "print(\"Original DataFrame:\\n\", df_original, \"\\n\")\n",
    "print(\"Modified DataFrame with 'Pass/Fail' Status:\\n\", df_modified, \"\\n\")\n",
    "print(f\"Original data exported to {csv_file_path} and {excel_file_path}\")\n",
    "print(f\"Modified data exported to {modified_csv_file_path} and {modified_excel_file_path}\")\n"
   ]
  },
  {
   "cell_type": "code",
   "execution_count": 143,
   "id": "1a415f2c-b0ec-4182-b195-5954711053bd",
   "metadata": {},
   "outputs": [],
   "source": [
    "# Create a CSV file and an Excel file with 'City', 'Country', 'Population', and 'Area'\n",
    "data = {\n",
    "    'City': ['New York', 'Los Angeles', 'Chicago', 'Houston', 'Phoenix'],\n",
    "    'Country': ['USA', 'USA', 'USA', 'USA', 'USA'],\n",
    "    'Population': [8419600, 3980400, 2716000, 2328000, 1690000],\n",
    "    'Area': [789, 1302, 589, 1625, 1340]\n",
    "}\n",
    "\n",
    "df_original = pd.DataFrame(data)\n"
   ]
  },
  {
   "cell_type": "code",
   "execution_count": 144,
   "id": "eb62c93d-eb7c-461e-92c2-daf54eba3668",
   "metadata": {},
   "outputs": [],
   "source": [
    "# Save the original data to CSV and Excel\n",
    "csv_file_path = \"cities_original.csv\"\n",
    "excel_file_path = \"cities_original.xlsx\"\n",
    "df_original.to_csv(csv_file_path, index=False)\n",
    "df_original.to_excel(excel_file_path, index=False)\n"
   ]
  },
  {
   "cell_type": "code",
   "execution_count": 145,
   "id": "24fc76a6-e078-4b89-ab5d-6d5c062e4ad6",
   "metadata": {},
   "outputs": [],
   "source": [
    "# Create a modified version by calculating 'Population Density'\n",
    "df_modified = df_original.copy()\n",
    "df_modified['Population Density'] = df_modified['Population'] / df_modified['Area']\n"
   ]
  },
  {
   "cell_type": "code",
   "execution_count": 146,
   "id": "fc2fc705-7b2a-4111-99c4-74d32ee27321",
   "metadata": {},
   "outputs": [],
   "source": [
    "# Save the modified data to CSV and Excel\n",
    "modified_csv_file_path = \"cities_modified.csv\"\n",
    "modified_excel_file_path = \"cities_modified.xlsx\"\n",
    "df_modified.to_csv(modified_csv_file_path, index=False)\n",
    "df_modified.to_excel(modified_excel_file_path, index=False)\n",
    "\n",
    "# Compare the original and modified versions"
   ]
  },
  {
   "cell_type": "code",
   "execution_count": 147,
   "id": "09a3d281-06f2-4fc3-ad6d-b7c512d43cf9",
   "metadata": {},
   "outputs": [
    {
     "name": "stdout",
     "output_type": "stream",
     "text": [
      "Original DataFrame:\n",
      "           City Country  Population  Area\n",
      "0     New York     USA     8419600   789\n",
      "1  Los Angeles     USA     3980400  1302\n",
      "2      Chicago     USA     2716000   589\n",
      "3      Houston     USA     2328000  1625\n",
      "4      Phoenix     USA     1690000  1340 \n",
      "\n",
      "Modified DataFrame with 'Population Density':\n",
      "           City Country  Population  Area  Population Density\n",
      "0     New York     USA     8419600   789        10671.229404\n",
      "1  Los Angeles     USA     3980400  1302         3057.142857\n",
      "2      Chicago     USA     2716000   589         4611.205433\n",
      "3      Houston     USA     2328000  1625         1432.615385\n",
      "4      Phoenix     USA     1690000  1340         1261.194030 \n",
      "\n",
      "Original data exported to cities_original.csv and cities_original.xlsx\n",
      "Modified data exported to cities_modified.csv and cities_modified.xlsx\n"
     ]
    }
   ],
   "source": [
    "# Compare the original and modified versions\n",
    "print(\"Original DataFrame:\\n\", df_original, \"\\n\")\n",
    "print(\"Modified DataFrame with 'Population Density':\\n\", df_modified, \"\\n\")\n",
    "print(f\"Original data exported to {csv_file_path} and {excel_file_path}\")\n",
    "print(f\"Modified data exported to {modified_csv_file_path} and {modified_excel_file_path}\")\n"
   ]
  },
  {
   "cell_type": "code",
   "execution_count": null,
   "id": "f996510b-08ef-4a1a-8b38-456142feef82",
   "metadata": {},
   "outputs": [],
   "source": []
  }
 ],
 "metadata": {
  "kernelspec": {
   "display_name": "Python 3 (ipykernel)",
   "language": "python",
   "name": "python3"
  },
  "language_info": {
   "codemirror_mode": {
    "name": "ipython",
    "version": 3
   },
   "file_extension": ".py",
   "mimetype": "text/x-python",
   "name": "python",
   "nbconvert_exporter": "python",
   "pygments_lexer": "ipython3",
   "version": "3.12.7"
  }
 },
 "nbformat": 4,
 "nbformat_minor": 5
}
